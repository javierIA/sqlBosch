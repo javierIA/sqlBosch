{
    "metadata": {
        "kernelspec": {
            "name": "SQL",
            "display_name": "SQL",
            "language": "sql"
        },
        "language_info": {
            "name": "sql",
            "version": ""
        }
    },
    "nbformat_minor": 2,
    "nbformat": 4,
    "cells": [
        {
            "cell_type": "markdown",
            "source": [
                "# Consultas agregadas\n",
                "Las consultas agregadas te permiten realizar cálculos en un conjunto de valores y devolver un único valor. SQL tiene varias funciones agregadas como SUM(), AVG(), MIN(), MAX(), COUNT(), etc."
            ],
            "metadata": {
                "azdata_cell_guid": "c0305c78-e6f9-40c6-a9fd-918c104e64d9"
            },
            "attachments": {}
        },
        {
            "cell_type": "code",
            "source": [
                "SELECT SUM(monto) AS total_monto\n",
                "FROM infonavit\n",
                "WHERE ano = 2023 AND mes = 1 "
            ],
            "metadata": {
                "azdata_cell_guid": "c539f197-37d4-4ac4-9180-ae9adc23c145",
                "language": "sql"
            },
            "outputs": [
                {
                    "output_type": "display_data",
                    "data": {
                        "text/html": "(1 row(s) affected)"
                    },
                    "metadata": {}
                },
                {
                    "output_type": "display_data",
                    "data": {
                        "text/html": "Total execution time: 00:00:01.019"
                    },
                    "metadata": {}
                },
                {
                    "output_type": "execute_result",
                    "execution_count": 6,
                    "data": {
                        "application/vnd.dataresource+json": {
                            "schema": {
                                "fields": [
                                    {
                                        "name": "total_monto"
                                    }
                                ]
                            },
                            "data": [
                                {
                                    "total_monto": "3381619804.449998"
                                }
                            ]
                        },
                        "text/html": "<table><tr><th>total_monto</th></tr><tr><td>3381619804.449998</td></tr></table>"
                    },
                    "metadata": {}
                }
            ],
            "execution_count": 6
        },
        {
            "cell_type": "markdown",
            "source": [
                "## Calcular el promedio de edad por entidad\n",
                ""
            ],
            "metadata": {
                "azdata_cell_guid": "43365742-583d-4dc4-81e3-8b588bd875c7"
            },
            "attachments": {}
        },
        {
            "cell_type": "code",
            "source": [
                "SELECT entidad, AVG(edad_rango) as avg_edad\n",
                "FROM infonavit\n",
                "GROUP BY entidad\n",
                ""
            ],
            "metadata": {
                "azdata_cell_guid": "22446b60-66b9-4e8c-9865-df0e5471999d",
                "language": "sql"
            },
            "outputs": [
                {
                    "output_type": "display_data",
                    "data": {
                        "text/html": "(7 row(s) affected)"
                    },
                    "metadata": {}
                },
                {
                    "output_type": "display_data",
                    "data": {
                        "text/html": "Total execution time: 00:00:01.010"
                    },
                    "metadata": {}
                },
                {
                    "output_type": "execute_result",
                    "execution_count": 7,
                    "data": {
                        "application/vnd.dataresource+json": {
                            "schema": {
                                "fields": [
                                    {
                                        "name": "entidad"
                                    },
                                    {
                                        "name": "avg_edad"
                                    }
                                ]
                            },
                            "data": [
                                {
                                    "entidad": "No distribuido",
                                    "avg_edad": "0.0"
                                },
                                {
                                    "entidad": "Aguascalientes",
                                    "avg_edad": "1.6760869565217391"
                                },
                                {
                                    "entidad": "Baja California",
                                    "avg_edad": "1.6626506024096386"
                                },
                                {
                                    "entidad": "Baja California Sur",
                                    "avg_edad": "1.8095238095238095"
                                },
                                {
                                    "entidad": "Campeche",
                                    "avg_edad": "1.8944444444444444"
                                },
                                {
                                    "entidad": "Coahuila de Zaragoza",
                                    "avg_edad": "1.6907090464547678"
                                },
                                {
                                    "entidad": "Colima",
                                    "avg_edad": "1.786764705882353"
                                }
                            ]
                        },
                        "text/html": "<table><tr><th>entidad</th><th>avg_edad</th></tr><tr><td>No distribuido</td><td>0.0</td></tr><tr><td>Aguascalientes</td><td>1.6760869565217391</td></tr><tr><td>Baja California</td><td>1.6626506024096386</td></tr><tr><td>Baja California Sur</td><td>1.8095238095238095</td></tr><tr><td>Campeche</td><td>1.8944444444444444</td></tr><tr><td>Coahuila de Zaragoza</td><td>1.6907090464547678</td></tr><tr><td>Colima</td><td>1.786764705882353</td></tr></table>"
                    },
                    "metadata": {}
                }
            ],
            "execution_count": 7
        },
        {
            "cell_type": "markdown",
            "source": [
                "<span style=\"border: 0px solid rgb(217, 217, 227); box-sizing: border-box; --tw-border-spacing-x: 0; --tw-border-spacing-y: 0; --tw-translate-x: 0; --tw-translate-y: 0; --tw-rotate: 0; --tw-skew-x: 0; --tw-skew-y: 0; --tw-scale-x: 1; --tw-scale-y: 1; --tw-pan-x: ; --tw-pan-y: ; --tw-pinch-zoom: ; --tw-scroll-snap-strictness: proximity; --tw-gradient-from-position: ; --tw-gradient-via-position: ; --tw-gradient-to-position: ; --tw-ordinal: ; --tw-slashed-zero: ; --tw-numeric-figure: ; --tw-numeric-spacing: ; --tw-numeric-fraction: ; --tw-ring-inset: ; --tw-ring-offset-width: 0px; --tw-ring-offset-color: #fff; --tw-ring-color: rgba(69,89,164,.5); --tw-ring-offset-shadow: 0 0 transparent; --tw-ring-shadow: 0 0 transparent; --tw-shadow: 0 0 transparent; --tw-shadow-colored: 0 0 transparent; --tw-blur: ; --tw-brightness: ; --tw-contrast: ; --tw-grayscale: ; --tw-hue-rotate: ; --tw-invert: ; --tw-saturate: ; --tw-sepia: ; --tw-drop-shadow: ; --tw-backdrop-blur: ; --tw-backdrop-brightness: ; --tw-backdrop-contrast: ; --tw-backdrop-grayscale: ; --tw-backdrop-hue-rotate: ; --tw-backdrop-invert: ; --tw-backdrop-opacity: ; --tw-backdrop-saturate: ; --tw-backdrop-sepia: ; font-weight: 600; color: var(--tw-prose-bold);\">Funciones de ventana</span>:\n",
                "\n",
                "Las funciones de ventana permiten realizar cálculos sobre un conjunto de filas relacionadas a la fila actual. Esto es útil para cálculos como totales acumulativos, promedios móviles, rangos, etc"
            ],
            "metadata": {
                "azdata_cell_guid": "46c1311a-c314-4f9e-abe1-f3e58bb66e80"
            },
            "attachments": {}
        },
        {
            "cell_type": "code",
            "source": [
                "-- Calcular el total acumulativo del monto por mes en el año 2023\n",
                "SELECT ano, mes, SUM(monto) OVER (PARTITION BY ano ORDER BY mes) AS monto_acumulado\n",
                "FROM infonavit\n",
                "WHERE ano = 2023"
            ],
            "metadata": {
                "azdata_cell_guid": "ca1fa07b-333b-4151-90cc-f4f2be3b474c",
                "language": "sql"
            },
            "outputs": [
                {
                    "output_type": "display_data",
                    "data": {
                        "text/html": "(2386 row(s) affected)"
                    },
                    "metadata": {}
                },
                {
                    "output_type": "display_data",
                    "data": {
                        "text/html": "Displaying Top 500 rows."
                    },
                    "metadata": {}
                },
                {
                    "output_type": "display_data",
                    "data": {
                        "text/html": "Total execution time: 00:00:01.017"
                    },
                    "metadata": {}
                },
                {
                    "output_type": "execute_result",
                    "execution_count": 9,
                    "data": {
                        "application/vnd.dataresource+json": {
                            "schema": {
                                "fields": [
                                    {
                                        "name": "ano"
                                    },
                                    {
                                        "name": "mes"
                                    },
                                    {
                                        "name": "monto_acumulado"
                                    }
                                ]
                            },
                            "data": [
                                {
                                    "ano": "2023",
                                    "mes": "1",
                                    "monto_acumulado": "3381619804.449998"
                                },
                                {
                                    "ano": "2023",
                                    "mes": "1",
                                    "monto_acumulado": "3381619804.449998"
                                },
                                {
                                    "ano": "2023",
                                    "mes": "1",
                                    "monto_acumulado": "3381619804.449998"
                                },
                                {
                                    "ano": "2023",
                                    "mes": "1",
                                    "monto_acumulado": "3381619804.449998"
                                },
                                {
                                    "ano": "2023",
                                    "mes": "1",
                                    "monto_acumulado": "3381619804.449998"
                                },
                                {
                                    "ano": "2023",
                                    "mes": "1",
                                    "monto_acumulado": "3381619804.449998"
                                },
                                {
                                    "ano": "2023",
                                    "mes": "1",
                                    "monto_acumulado": "3381619804.449998"
                                },
                                {
                                    "ano": "2023",
                                    "mes": "1",
                                    "monto_acumulado": "3381619804.449998"
                                },
                                {
                                    "ano": "2023",
                                    "mes": "1",
                                    "monto_acumulado": "3381619804.449998"
                                },
                                {
                                    "ano": "2023",
                                    "mes": "1",
                                    "monto_acumulado": "3381619804.449998"
                                },
                                {
                                    "ano": "2023",
                                    "mes": "1",
                                    "monto_acumulado": "3381619804.449998"
                                },
                                {
                                    "ano": "2023",
                                    "mes": "1",
                                    "monto_acumulado": "3381619804.449998"
                                },
                                {
                                    "ano": "2023",
                                    "mes": "1",
                                    "monto_acumulado": "3381619804.449998"
                                },
                                {
                                    "ano": "2023",
                                    "mes": "1",
                                    "monto_acumulado": "3381619804.449998"
                                },
                                {
                                    "ano": "2023",
                                    "mes": "1",
                                    "monto_acumulado": "3381619804.449998"
                                },
                                {
                                    "ano": "2023",
                                    "mes": "1",
                                    "monto_acumulado": "3381619804.449998"
                                },
                                {
                                    "ano": "2023",
                                    "mes": "1",
                                    "monto_acumulado": "3381619804.449998"
                                },
                                {
                                    "ano": "2023",
                                    "mes": "1",
                                    "monto_acumulado": "3381619804.449998"
                                },
                                {
                                    "ano": "2023",
                                    "mes": "1",
                                    "monto_acumulado": "3381619804.449998"
                                },
                                {
                                    "ano": "2023",
                                    "mes": "1",
                                    "monto_acumulado": "3381619804.449998"
                                },
                                {
                                    "ano": "2023",
                                    "mes": "1",
                                    "monto_acumulado": "3381619804.449998"
                                },
                                {
                                    "ano": "2023",
                                    "mes": "1",
                                    "monto_acumulado": "3381619804.449998"
                                },
                                {
                                    "ano": "2023",
                                    "mes": "1",
                                    "monto_acumulado": "3381619804.449998"
                                },
                                {
                                    "ano": "2023",
                                    "mes": "1",
                                    "monto_acumulado": "3381619804.449998"
                                },
                                {
                                    "ano": "2023",
                                    "mes": "1",
                                    "monto_acumulado": "3381619804.449998"
                                },
                                {
                                    "ano": "2023",
                                    "mes": "1",
                                    "monto_acumulado": "3381619804.449998"
                                },
                                {
                                    "ano": "2023",
                                    "mes": "1",
                                    "monto_acumulado": "3381619804.449998"
                                },
                                {
                                    "ano": "2023",
                                    "mes": "1",
                                    "monto_acumulado": "3381619804.449998"
                                },
                                {
                                    "ano": "2023",
                                    "mes": "1",
                                    "monto_acumulado": "3381619804.449998"
                                },
                                {
                                    "ano": "2023",
                                    "mes": "1",
                                    "monto_acumulado": "3381619804.449998"
                                },
                                {
                                    "ano": "2023",
                                    "mes": "1",
                                    "monto_acumulado": "3381619804.449998"
                                },
                                {
                                    "ano": "2023",
                                    "mes": "1",
                                    "monto_acumulado": "3381619804.449998"
                                },
                                {
                                    "ano": "2023",
                                    "mes": "1",
                                    "monto_acumulado": "3381619804.449998"
                                },
                                {
                                    "ano": "2023",
                                    "mes": "1",
                                    "monto_acumulado": "3381619804.449998"
                                },
                                {
                                    "ano": "2023",
                                    "mes": "1",
                                    "monto_acumulado": "3381619804.449998"
                                },
                                {
                                    "ano": "2023",
                                    "mes": "1",
                                    "monto_acumulado": "3381619804.449998"
                                },
                                {
                                    "ano": "2023",
                                    "mes": "1",
                                    "monto_acumulado": "3381619804.449998"
                                },
                                {
                                    "ano": "2023",
                                    "mes": "1",
                                    "monto_acumulado": "3381619804.449998"
                                },
                                {
                                    "ano": "2023",
                                    "mes": "1",
                                    "monto_acumulado": "3381619804.449998"
                                },
                                {
                                    "ano": "2023",
                                    "mes": "1",
                                    "monto_acumulado": "3381619804.449998"
                                },
                                {
                                    "ano": "2023",
                                    "mes": "1",
                                    "monto_acumulado": "3381619804.449998"
                                },
                                {
                                    "ano": "2023",
                                    "mes": "1",
                                    "monto_acumulado": "3381619804.449998"
                                },
                                {
                                    "ano": "2023",
                                    "mes": "1",
                                    "monto_acumulado": "3381619804.449998"
                                },
                                {
                                    "ano": "2023",
                                    "mes": "1",
                                    "monto_acumulado": "3381619804.449998"
                                },
                                {
                                    "ano": "2023",
                                    "mes": "1",
                                    "monto_acumulado": "3381619804.449998"
                                },
                                {
                                    "ano": "2023",
                                    "mes": "1",
                                    "monto_acumulado": "3381619804.449998"
                                },
                                {
                                    "ano": "2023",
                                    "mes": "1",
                                    "monto_acumulado": "3381619804.449998"
                                },
                                {
                                    "ano": "2023",
                                    "mes": "1",
                                    "monto_acumulado": "3381619804.449998"
                                },
                                {
                                    "ano": "2023",
                                    "mes": "1",
                                    "monto_acumulado": "3381619804.449998"
                                },
                                {
                                    "ano": "2023",
                                    "mes": "1",
                                    "monto_acumulado": "3381619804.449998"
                                },
                                {
                                    "ano": "2023",
                                    "mes": "1",
                                    "monto_acumulado": "3381619804.449998"
                                },
                                {
                                    "ano": "2023",
                                    "mes": "1",
                                    "monto_acumulado": "3381619804.449998"
                                },
                                {
                                    "ano": "2023",
                                    "mes": "1",
                                    "monto_acumulado": "3381619804.449998"
                                },
                                {
                                    "ano": "2023",
                                    "mes": "1",
                                    "monto_acumulado": "3381619804.449998"
                                },
                                {
                                    "ano": "2023",
                                    "mes": "1",
                                    "monto_acumulado": "3381619804.449998"
                                },
                                {
                                    "ano": "2023",
                                    "mes": "1",
                                    "monto_acumulado": "3381619804.449998"
                                },
                                {
                                    "ano": "2023",
                                    "mes": "1",
                                    "monto_acumulado": "3381619804.449998"
                                },
                                {
                                    "ano": "2023",
                                    "mes": "1",
                                    "monto_acumulado": "3381619804.449998"
                                },
                                {
                                    "ano": "2023",
                                    "mes": "1",
                                    "monto_acumulado": "3381619804.449998"
                                },
                                {
                                    "ano": "2023",
                                    "mes": "1",
                                    "monto_acumulado": "3381619804.449998"
                                },
                                {
                                    "ano": "2023",
                                    "mes": "1",
                                    "monto_acumulado": "3381619804.449998"
                                },
                                {
                                    "ano": "2023",
                                    "mes": "1",
                                    "monto_acumulado": "3381619804.449998"
                                },
                                {
                                    "ano": "2023",
                                    "mes": "1",
                                    "monto_acumulado": "3381619804.449998"
                                },
                                {
                                    "ano": "2023",
                                    "mes": "1",
                                    "monto_acumulado": "3381619804.449998"
                                },
                                {
                                    "ano": "2023",
                                    "mes": "1",
                                    "monto_acumulado": "3381619804.449998"
                                },
                                {
                                    "ano": "2023",
                                    "mes": "1",
                                    "monto_acumulado": "3381619804.449998"
                                },
                                {
                                    "ano": "2023",
                                    "mes": "1",
                                    "monto_acumulado": "3381619804.449998"
                                },
                                {
                                    "ano": "2023",
                                    "mes": "1",
                                    "monto_acumulado": "3381619804.449998"
                                },
                                {
                                    "ano": "2023",
                                    "mes": "1",
                                    "monto_acumulado": "3381619804.449998"
                                },
                                {
                                    "ano": "2023",
                                    "mes": "1",
                                    "monto_acumulado": "3381619804.449998"
                                },
                                {
                                    "ano": "2023",
                                    "mes": "1",
                                    "monto_acumulado": "3381619804.449998"
                                },
                                {
                                    "ano": "2023",
                                    "mes": "1",
                                    "monto_acumulado": "3381619804.449998"
                                },
                                {
                                    "ano": "2023",
                                    "mes": "1",
                                    "monto_acumulado": "3381619804.449998"
                                },
                                {
                                    "ano": "2023",
                                    "mes": "1",
                                    "monto_acumulado": "3381619804.449998"
                                },
                                {
                                    "ano": "2023",
                                    "mes": "1",
                                    "monto_acumulado": "3381619804.449998"
                                },
                                {
                                    "ano": "2023",
                                    "mes": "1",
                                    "monto_acumulado": "3381619804.449998"
                                },
                                {
                                    "ano": "2023",
                                    "mes": "1",
                                    "monto_acumulado": "3381619804.449998"
                                },
                                {
                                    "ano": "2023",
                                    "mes": "1",
                                    "monto_acumulado": "3381619804.449998"
                                },
                                {
                                    "ano": "2023",
                                    "mes": "1",
                                    "monto_acumulado": "3381619804.449998"
                                },
                                {
                                    "ano": "2023",
                                    "mes": "1",
                                    "monto_acumulado": "3381619804.449998"
                                },
                                {
                                    "ano": "2023",
                                    "mes": "1",
                                    "monto_acumulado": "3381619804.449998"
                                },
                                {
                                    "ano": "2023",
                                    "mes": "1",
                                    "monto_acumulado": "3381619804.449998"
                                },
                                {
                                    "ano": "2023",
                                    "mes": "1",
                                    "monto_acumulado": "3381619804.449998"
                                },
                                {
                                    "ano": "2023",
                                    "mes": "1",
                                    "monto_acumulado": "3381619804.449998"
                                },
                                {
                                    "ano": "2023",
                                    "mes": "1",
                                    "monto_acumulado": "3381619804.449998"
                                },
                                {
                                    "ano": "2023",
                                    "mes": "1",
                                    "monto_acumulado": "3381619804.449998"
                                },
                                {
                                    "ano": "2023",
                                    "mes": "1",
                                    "monto_acumulado": "3381619804.449998"
                                },
                                {
                                    "ano": "2023",
                                    "mes": "1",
                                    "monto_acumulado": "3381619804.449998"
                                },
                                {
                                    "ano": "2023",
                                    "mes": "1",
                                    "monto_acumulado": "3381619804.449998"
                                },
                                {
                                    "ano": "2023",
                                    "mes": "1",
                                    "monto_acumulado": "3381619804.449998"
                                },
                                {
                                    "ano": "2023",
                                    "mes": "1",
                                    "monto_acumulado": "3381619804.449998"
                                },
                                {
                                    "ano": "2023",
                                    "mes": "1",
                                    "monto_acumulado": "3381619804.449998"
                                },
                                {
                                    "ano": "2023",
                                    "mes": "1",
                                    "monto_acumulado": "3381619804.449998"
                                },
                                {
                                    "ano": "2023",
                                    "mes": "1",
                                    "monto_acumulado": "3381619804.449998"
                                },
                                {
                                    "ano": "2023",
                                    "mes": "1",
                                    "monto_acumulado": "3381619804.449998"
                                },
                                {
                                    "ano": "2023",
                                    "mes": "1",
                                    "monto_acumulado": "3381619804.449998"
                                },
                                {
                                    "ano": "2023",
                                    "mes": "1",
                                    "monto_acumulado": "3381619804.449998"
                                },
                                {
                                    "ano": "2023",
                                    "mes": "1",
                                    "monto_acumulado": "3381619804.449998"
                                },
                                {
                                    "ano": "2023",
                                    "mes": "1",
                                    "monto_acumulado": "3381619804.449998"
                                },
                                {
                                    "ano": "2023",
                                    "mes": "1",
                                    "monto_acumulado": "3381619804.449998"
                                },
                                {
                                    "ano": "2023",
                                    "mes": "1",
                                    "monto_acumulado": "3381619804.449998"
                                },
                                {
                                    "ano": "2023",
                                    "mes": "1",
                                    "monto_acumulado": "3381619804.449998"
                                },
                                {
                                    "ano": "2023",
                                    "mes": "1",
                                    "monto_acumulado": "3381619804.449998"
                                },
                                {
                                    "ano": "2023",
                                    "mes": "1",
                                    "monto_acumulado": "3381619804.449998"
                                },
                                {
                                    "ano": "2023",
                                    "mes": "1",
                                    "monto_acumulado": "3381619804.449998"
                                },
                                {
                                    "ano": "2023",
                                    "mes": "1",
                                    "monto_acumulado": "3381619804.449998"
                                },
                                {
                                    "ano": "2023",
                                    "mes": "1",
                                    "monto_acumulado": "3381619804.449998"
                                },
                                {
                                    "ano": "2023",
                                    "mes": "1",
                                    "monto_acumulado": "3381619804.449998"
                                },
                                {
                                    "ano": "2023",
                                    "mes": "1",
                                    "monto_acumulado": "3381619804.449998"
                                },
                                {
                                    "ano": "2023",
                                    "mes": "1",
                                    "monto_acumulado": "3381619804.449998"
                                },
                                {
                                    "ano": "2023",
                                    "mes": "1",
                                    "monto_acumulado": "3381619804.449998"
                                },
                                {
                                    "ano": "2023",
                                    "mes": "1",
                                    "monto_acumulado": "3381619804.449998"
                                },
                                {
                                    "ano": "2023",
                                    "mes": "1",
                                    "monto_acumulado": "3381619804.449998"
                                },
                                {
                                    "ano": "2023",
                                    "mes": "1",
                                    "monto_acumulado": "3381619804.449998"
                                },
                                {
                                    "ano": "2023",
                                    "mes": "1",
                                    "monto_acumulado": "3381619804.449998"
                                },
                                {
                                    "ano": "2023",
                                    "mes": "1",
                                    "monto_acumulado": "3381619804.449998"
                                },
                                {
                                    "ano": "2023",
                                    "mes": "1",
                                    "monto_acumulado": "3381619804.449998"
                                },
                                {
                                    "ano": "2023",
                                    "mes": "1",
                                    "monto_acumulado": "3381619804.449998"
                                },
                                {
                                    "ano": "2023",
                                    "mes": "1",
                                    "monto_acumulado": "3381619804.449998"
                                },
                                {
                                    "ano": "2023",
                                    "mes": "1",
                                    "monto_acumulado": "3381619804.449998"
                                },
                                {
                                    "ano": "2023",
                                    "mes": "1",
                                    "monto_acumulado": "3381619804.449998"
                                },
                                {
                                    "ano": "2023",
                                    "mes": "1",
                                    "monto_acumulado": "3381619804.449998"
                                },
                                {
                                    "ano": "2023",
                                    "mes": "1",
                                    "monto_acumulado": "3381619804.449998"
                                },
                                {
                                    "ano": "2023",
                                    "mes": "1",
                                    "monto_acumulado": "3381619804.449998"
                                },
                                {
                                    "ano": "2023",
                                    "mes": "1",
                                    "monto_acumulado": "3381619804.449998"
                                },
                                {
                                    "ano": "2023",
                                    "mes": "1",
                                    "monto_acumulado": "3381619804.449998"
                                },
                                {
                                    "ano": "2023",
                                    "mes": "1",
                                    "monto_acumulado": "3381619804.449998"
                                },
                                {
                                    "ano": "2023",
                                    "mes": "1",
                                    "monto_acumulado": "3381619804.449998"
                                },
                                {
                                    "ano": "2023",
                                    "mes": "1",
                                    "monto_acumulado": "3381619804.449998"
                                },
                                {
                                    "ano": "2023",
                                    "mes": "1",
                                    "monto_acumulado": "3381619804.449998"
                                },
                                {
                                    "ano": "2023",
                                    "mes": "1",
                                    "monto_acumulado": "3381619804.449998"
                                },
                                {
                                    "ano": "2023",
                                    "mes": "1",
                                    "monto_acumulado": "3381619804.449998"
                                },
                                {
                                    "ano": "2023",
                                    "mes": "1",
                                    "monto_acumulado": "3381619804.449998"
                                },
                                {
                                    "ano": "2023",
                                    "mes": "1",
                                    "monto_acumulado": "3381619804.449998"
                                },
                                {
                                    "ano": "2023",
                                    "mes": "1",
                                    "monto_acumulado": "3381619804.449998"
                                },
                                {
                                    "ano": "2023",
                                    "mes": "1",
                                    "monto_acumulado": "3381619804.449998"
                                },
                                {
                                    "ano": "2023",
                                    "mes": "1",
                                    "monto_acumulado": "3381619804.449998"
                                },
                                {
                                    "ano": "2023",
                                    "mes": "1",
                                    "monto_acumulado": "3381619804.449998"
                                },
                                {
                                    "ano": "2023",
                                    "mes": "1",
                                    "monto_acumulado": "3381619804.449998"
                                },
                                {
                                    "ano": "2023",
                                    "mes": "1",
                                    "monto_acumulado": "3381619804.449998"
                                },
                                {
                                    "ano": "2023",
                                    "mes": "1",
                                    "monto_acumulado": "3381619804.449998"
                                },
                                {
                                    "ano": "2023",
                                    "mes": "1",
                                    "monto_acumulado": "3381619804.449998"
                                },
                                {
                                    "ano": "2023",
                                    "mes": "1",
                                    "monto_acumulado": "3381619804.449998"
                                },
                                {
                                    "ano": "2023",
                                    "mes": "1",
                                    "monto_acumulado": "3381619804.449998"
                                },
                                {
                                    "ano": "2023",
                                    "mes": "1",
                                    "monto_acumulado": "3381619804.449998"
                                },
                                {
                                    "ano": "2023",
                                    "mes": "1",
                                    "monto_acumulado": "3381619804.449998"
                                },
                                {
                                    "ano": "2023",
                                    "mes": "1",
                                    "monto_acumulado": "3381619804.449998"
                                },
                                {
                                    "ano": "2023",
                                    "mes": "1",
                                    "monto_acumulado": "3381619804.449998"
                                },
                                {
                                    "ano": "2023",
                                    "mes": "1",
                                    "monto_acumulado": "3381619804.449998"
                                },
                                {
                                    "ano": "2023",
                                    "mes": "1",
                                    "monto_acumulado": "3381619804.449998"
                                },
                                {
                                    "ano": "2023",
                                    "mes": "1",
                                    "monto_acumulado": "3381619804.449998"
                                },
                                {
                                    "ano": "2023",
                                    "mes": "1",
                                    "monto_acumulado": "3381619804.449998"
                                },
                                {
                                    "ano": "2023",
                                    "mes": "1",
                                    "monto_acumulado": "3381619804.449998"
                                },
                                {
                                    "ano": "2023",
                                    "mes": "1",
                                    "monto_acumulado": "3381619804.449998"
                                },
                                {
                                    "ano": "2023",
                                    "mes": "1",
                                    "monto_acumulado": "3381619804.449998"
                                },
                                {
                                    "ano": "2023",
                                    "mes": "1",
                                    "monto_acumulado": "3381619804.449998"
                                },
                                {
                                    "ano": "2023",
                                    "mes": "1",
                                    "monto_acumulado": "3381619804.449998"
                                },
                                {
                                    "ano": "2023",
                                    "mes": "1",
                                    "monto_acumulado": "3381619804.449998"
                                },
                                {
                                    "ano": "2023",
                                    "mes": "1",
                                    "monto_acumulado": "3381619804.449998"
                                },
                                {
                                    "ano": "2023",
                                    "mes": "1",
                                    "monto_acumulado": "3381619804.449998"
                                },
                                {
                                    "ano": "2023",
                                    "mes": "1",
                                    "monto_acumulado": "3381619804.449998"
                                },
                                {
                                    "ano": "2023",
                                    "mes": "1",
                                    "monto_acumulado": "3381619804.449998"
                                },
                                {
                                    "ano": "2023",
                                    "mes": "1",
                                    "monto_acumulado": "3381619804.449998"
                                },
                                {
                                    "ano": "2023",
                                    "mes": "1",
                                    "monto_acumulado": "3381619804.449998"
                                },
                                {
                                    "ano": "2023",
                                    "mes": "1",
                                    "monto_acumulado": "3381619804.449998"
                                },
                                {
                                    "ano": "2023",
                                    "mes": "1",
                                    "monto_acumulado": "3381619804.449998"
                                },
                                {
                                    "ano": "2023",
                                    "mes": "1",
                                    "monto_acumulado": "3381619804.449998"
                                },
                                {
                                    "ano": "2023",
                                    "mes": "1",
                                    "monto_acumulado": "3381619804.449998"
                                },
                                {
                                    "ano": "2023",
                                    "mes": "1",
                                    "monto_acumulado": "3381619804.449998"
                                },
                                {
                                    "ano": "2023",
                                    "mes": "1",
                                    "monto_acumulado": "3381619804.449998"
                                },
                                {
                                    "ano": "2023",
                                    "mes": "1",
                                    "monto_acumulado": "3381619804.449998"
                                },
                                {
                                    "ano": "2023",
                                    "mes": "1",
                                    "monto_acumulado": "3381619804.449998"
                                },
                                {
                                    "ano": "2023",
                                    "mes": "1",
                                    "monto_acumulado": "3381619804.449998"
                                },
                                {
                                    "ano": "2023",
                                    "mes": "1",
                                    "monto_acumulado": "3381619804.449998"
                                },
                                {
                                    "ano": "2023",
                                    "mes": "1",
                                    "monto_acumulado": "3381619804.449998"
                                },
                                {
                                    "ano": "2023",
                                    "mes": "1",
                                    "monto_acumulado": "3381619804.449998"
                                },
                                {
                                    "ano": "2023",
                                    "mes": "1",
                                    "monto_acumulado": "3381619804.449998"
                                },
                                {
                                    "ano": "2023",
                                    "mes": "1",
                                    "monto_acumulado": "3381619804.449998"
                                },
                                {
                                    "ano": "2023",
                                    "mes": "1",
                                    "monto_acumulado": "3381619804.449998"
                                },
                                {
                                    "ano": "2023",
                                    "mes": "1",
                                    "monto_acumulado": "3381619804.449998"
                                },
                                {
                                    "ano": "2023",
                                    "mes": "1",
                                    "monto_acumulado": "3381619804.449998"
                                },
                                {
                                    "ano": "2023",
                                    "mes": "1",
                                    "monto_acumulado": "3381619804.449998"
                                },
                                {
                                    "ano": "2023",
                                    "mes": "1",
                                    "monto_acumulado": "3381619804.449998"
                                },
                                {
                                    "ano": "2023",
                                    "mes": "1",
                                    "monto_acumulado": "3381619804.449998"
                                },
                                {
                                    "ano": "2023",
                                    "mes": "1",
                                    "monto_acumulado": "3381619804.449998"
                                },
                                {
                                    "ano": "2023",
                                    "mes": "1",
                                    "monto_acumulado": "3381619804.449998"
                                },
                                {
                                    "ano": "2023",
                                    "mes": "1",
                                    "monto_acumulado": "3381619804.449998"
                                },
                                {
                                    "ano": "2023",
                                    "mes": "1",
                                    "monto_acumulado": "3381619804.449998"
                                },
                                {
                                    "ano": "2023",
                                    "mes": "1",
                                    "monto_acumulado": "3381619804.449998"
                                },
                                {
                                    "ano": "2023",
                                    "mes": "1",
                                    "monto_acumulado": "3381619804.449998"
                                },
                                {
                                    "ano": "2023",
                                    "mes": "1",
                                    "monto_acumulado": "3381619804.449998"
                                },
                                {
                                    "ano": "2023",
                                    "mes": "1",
                                    "monto_acumulado": "3381619804.449998"
                                },
                                {
                                    "ano": "2023",
                                    "mes": "1",
                                    "monto_acumulado": "3381619804.449998"
                                },
                                {
                                    "ano": "2023",
                                    "mes": "1",
                                    "monto_acumulado": "3381619804.449998"
                                },
                                {
                                    "ano": "2023",
                                    "mes": "1",
                                    "monto_acumulado": "3381619804.449998"
                                },
                                {
                                    "ano": "2023",
                                    "mes": "1",
                                    "monto_acumulado": "3381619804.449998"
                                },
                                {
                                    "ano": "2023",
                                    "mes": "1",
                                    "monto_acumulado": "3381619804.449998"
                                },
                                {
                                    "ano": "2023",
                                    "mes": "1",
                                    "monto_acumulado": "3381619804.449998"
                                },
                                {
                                    "ano": "2023",
                                    "mes": "1",
                                    "monto_acumulado": "3381619804.449998"
                                },
                                {
                                    "ano": "2023",
                                    "mes": "1",
                                    "monto_acumulado": "3381619804.449998"
                                },
                                {
                                    "ano": "2023",
                                    "mes": "1",
                                    "monto_acumulado": "3381619804.449998"
                                },
                                {
                                    "ano": "2023",
                                    "mes": "1",
                                    "monto_acumulado": "3381619804.449998"
                                },
                                {
                                    "ano": "2023",
                                    "mes": "1",
                                    "monto_acumulado": "3381619804.449998"
                                },
                                {
                                    "ano": "2023",
                                    "mes": "1",
                                    "monto_acumulado": "3381619804.449998"
                                },
                                {
                                    "ano": "2023",
                                    "mes": "1",
                                    "monto_acumulado": "3381619804.449998"
                                },
                                {
                                    "ano": "2023",
                                    "mes": "1",
                                    "monto_acumulado": "3381619804.449998"
                                },
                                {
                                    "ano": "2023",
                                    "mes": "1",
                                    "monto_acumulado": "3381619804.449998"
                                },
                                {
                                    "ano": "2023",
                                    "mes": "1",
                                    "monto_acumulado": "3381619804.449998"
                                },
                                {
                                    "ano": "2023",
                                    "mes": "1",
                                    "monto_acumulado": "3381619804.449998"
                                },
                                {
                                    "ano": "2023",
                                    "mes": "1",
                                    "monto_acumulado": "3381619804.449998"
                                },
                                {
                                    "ano": "2023",
                                    "mes": "1",
                                    "monto_acumulado": "3381619804.449998"
                                },
                                {
                                    "ano": "2023",
                                    "mes": "1",
                                    "monto_acumulado": "3381619804.449998"
                                },
                                {
                                    "ano": "2023",
                                    "mes": "1",
                                    "monto_acumulado": "3381619804.449998"
                                },
                                {
                                    "ano": "2023",
                                    "mes": "1",
                                    "monto_acumulado": "3381619804.449998"
                                },
                                {
                                    "ano": "2023",
                                    "mes": "1",
                                    "monto_acumulado": "3381619804.449998"
                                },
                                {
                                    "ano": "2023",
                                    "mes": "1",
                                    "monto_acumulado": "3381619804.449998"
                                },
                                {
                                    "ano": "2023",
                                    "mes": "1",
                                    "monto_acumulado": "3381619804.449998"
                                },
                                {
                                    "ano": "2023",
                                    "mes": "1",
                                    "monto_acumulado": "3381619804.449998"
                                },
                                {
                                    "ano": "2023",
                                    "mes": "1",
                                    "monto_acumulado": "3381619804.449998"
                                },
                                {
                                    "ano": "2023",
                                    "mes": "1",
                                    "monto_acumulado": "3381619804.449998"
                                },
                                {
                                    "ano": "2023",
                                    "mes": "1",
                                    "monto_acumulado": "3381619804.449998"
                                },
                                {
                                    "ano": "2023",
                                    "mes": "1",
                                    "monto_acumulado": "3381619804.449998"
                                },
                                {
                                    "ano": "2023",
                                    "mes": "1",
                                    "monto_acumulado": "3381619804.449998"
                                },
                                {
                                    "ano": "2023",
                                    "mes": "1",
                                    "monto_acumulado": "3381619804.449998"
                                },
                                {
                                    "ano": "2023",
                                    "mes": "1",
                                    "monto_acumulado": "3381619804.449998"
                                },
                                {
                                    "ano": "2023",
                                    "mes": "1",
                                    "monto_acumulado": "3381619804.449998"
                                },
                                {
                                    "ano": "2023",
                                    "mes": "1",
                                    "monto_acumulado": "3381619804.449998"
                                },
                                {
                                    "ano": "2023",
                                    "mes": "1",
                                    "monto_acumulado": "3381619804.449998"
                                },
                                {
                                    "ano": "2023",
                                    "mes": "1",
                                    "monto_acumulado": "3381619804.449998"
                                },
                                {
                                    "ano": "2023",
                                    "mes": "1",
                                    "monto_acumulado": "3381619804.449998"
                                },
                                {
                                    "ano": "2023",
                                    "mes": "1",
                                    "monto_acumulado": "3381619804.449998"
                                },
                                {
                                    "ano": "2023",
                                    "mes": "1",
                                    "monto_acumulado": "3381619804.449998"
                                },
                                {
                                    "ano": "2023",
                                    "mes": "1",
                                    "monto_acumulado": "3381619804.449998"
                                },
                                {
                                    "ano": "2023",
                                    "mes": "1",
                                    "monto_acumulado": "3381619804.449998"
                                },
                                {
                                    "ano": "2023",
                                    "mes": "1",
                                    "monto_acumulado": "3381619804.449998"
                                },
                                {
                                    "ano": "2023",
                                    "mes": "1",
                                    "monto_acumulado": "3381619804.449998"
                                },
                                {
                                    "ano": "2023",
                                    "mes": "1",
                                    "monto_acumulado": "3381619804.449998"
                                },
                                {
                                    "ano": "2023",
                                    "mes": "1",
                                    "monto_acumulado": "3381619804.449998"
                                },
                                {
                                    "ano": "2023",
                                    "mes": "1",
                                    "monto_acumulado": "3381619804.449998"
                                },
                                {
                                    "ano": "2023",
                                    "mes": "1",
                                    "monto_acumulado": "3381619804.449998"
                                },
                                {
                                    "ano": "2023",
                                    "mes": "1",
                                    "monto_acumulado": "3381619804.449998"
                                },
                                {
                                    "ano": "2023",
                                    "mes": "1",
                                    "monto_acumulado": "3381619804.449998"
                                },
                                {
                                    "ano": "2023",
                                    "mes": "1",
                                    "monto_acumulado": "3381619804.449998"
                                },
                                {
                                    "ano": "2023",
                                    "mes": "1",
                                    "monto_acumulado": "3381619804.449998"
                                },
                                {
                                    "ano": "2023",
                                    "mes": "1",
                                    "monto_acumulado": "3381619804.449998"
                                },
                                {
                                    "ano": "2023",
                                    "mes": "1",
                                    "monto_acumulado": "3381619804.449998"
                                },
                                {
                                    "ano": "2023",
                                    "mes": "1",
                                    "monto_acumulado": "3381619804.449998"
                                },
                                {
                                    "ano": "2023",
                                    "mes": "1",
                                    "monto_acumulado": "3381619804.449998"
                                },
                                {
                                    "ano": "2023",
                                    "mes": "1",
                                    "monto_acumulado": "3381619804.449998"
                                },
                                {
                                    "ano": "2023",
                                    "mes": "1",
                                    "monto_acumulado": "3381619804.449998"
                                },
                                {
                                    "ano": "2023",
                                    "mes": "1",
                                    "monto_acumulado": "3381619804.449998"
                                },
                                {
                                    "ano": "2023",
                                    "mes": "1",
                                    "monto_acumulado": "3381619804.449998"
                                },
                                {
                                    "ano": "2023",
                                    "mes": "1",
                                    "monto_acumulado": "3381619804.449998"
                                },
                                {
                                    "ano": "2023",
                                    "mes": "1",
                                    "monto_acumulado": "3381619804.449998"
                                },
                                {
                                    "ano": "2023",
                                    "mes": "1",
                                    "monto_acumulado": "3381619804.449998"
                                },
                                {
                                    "ano": "2023",
                                    "mes": "1",
                                    "monto_acumulado": "3381619804.449998"
                                },
                                {
                                    "ano": "2023",
                                    "mes": "1",
                                    "monto_acumulado": "3381619804.449998"
                                },
                                {
                                    "ano": "2023",
                                    "mes": "1",
                                    "monto_acumulado": "3381619804.449998"
                                },
                                {
                                    "ano": "2023",
                                    "mes": "1",
                                    "monto_acumulado": "3381619804.449998"
                                },
                                {
                                    "ano": "2023",
                                    "mes": "1",
                                    "monto_acumulado": "3381619804.449998"
                                },
                                {
                                    "ano": "2023",
                                    "mes": "1",
                                    "monto_acumulado": "3381619804.449998"
                                },
                                {
                                    "ano": "2023",
                                    "mes": "1",
                                    "monto_acumulado": "3381619804.449998"
                                },
                                {
                                    "ano": "2023",
                                    "mes": "1",
                                    "monto_acumulado": "3381619804.449998"
                                },
                                {
                                    "ano": "2023",
                                    "mes": "1",
                                    "monto_acumulado": "3381619804.449998"
                                },
                                {
                                    "ano": "2023",
                                    "mes": "1",
                                    "monto_acumulado": "3381619804.449998"
                                },
                                {
                                    "ano": "2023",
                                    "mes": "1",
                                    "monto_acumulado": "3381619804.449998"
                                },
                                {
                                    "ano": "2023",
                                    "mes": "1",
                                    "monto_acumulado": "3381619804.449998"
                                },
                                {
                                    "ano": "2023",
                                    "mes": "1",
                                    "monto_acumulado": "3381619804.449998"
                                },
                                {
                                    "ano": "2023",
                                    "mes": "1",
                                    "monto_acumulado": "3381619804.449998"
                                },
                                {
                                    "ano": "2023",
                                    "mes": "1",
                                    "monto_acumulado": "3381619804.449998"
                                },
                                {
                                    "ano": "2023",
                                    "mes": "1",
                                    "monto_acumulado": "3381619804.449998"
                                },
                                {
                                    "ano": "2023",
                                    "mes": "1",
                                    "monto_acumulado": "3381619804.449998"
                                },
                                {
                                    "ano": "2023",
                                    "mes": "1",
                                    "monto_acumulado": "3381619804.449998"
                                },
                                {
                                    "ano": "2023",
                                    "mes": "1",
                                    "monto_acumulado": "3381619804.449998"
                                },
                                {
                                    "ano": "2023",
                                    "mes": "1",
                                    "monto_acumulado": "3381619804.449998"
                                },
                                {
                                    "ano": "2023",
                                    "mes": "1",
                                    "monto_acumulado": "3381619804.449998"
                                },
                                {
                                    "ano": "2023",
                                    "mes": "1",
                                    "monto_acumulado": "3381619804.449998"
                                },
                                {
                                    "ano": "2023",
                                    "mes": "1",
                                    "monto_acumulado": "3381619804.449998"
                                },
                                {
                                    "ano": "2023",
                                    "mes": "1",
                                    "monto_acumulado": "3381619804.449998"
                                },
                                {
                                    "ano": "2023",
                                    "mes": "1",
                                    "monto_acumulado": "3381619804.449998"
                                },
                                {
                                    "ano": "2023",
                                    "mes": "1",
                                    "monto_acumulado": "3381619804.449998"
                                },
                                {
                                    "ano": "2023",
                                    "mes": "1",
                                    "monto_acumulado": "3381619804.449998"
                                },
                                {
                                    "ano": "2023",
                                    "mes": "1",
                                    "monto_acumulado": "3381619804.449998"
                                },
                                {
                                    "ano": "2023",
                                    "mes": "1",
                                    "monto_acumulado": "3381619804.449998"
                                },
                                {
                                    "ano": "2023",
                                    "mes": "1",
                                    "monto_acumulado": "3381619804.449998"
                                },
                                {
                                    "ano": "2023",
                                    "mes": "1",
                                    "monto_acumulado": "3381619804.449998"
                                },
                                {
                                    "ano": "2023",
                                    "mes": "1",
                                    "monto_acumulado": "3381619804.449998"
                                },
                                {
                                    "ano": "2023",
                                    "mes": "1",
                                    "monto_acumulado": "3381619804.449998"
                                },
                                {
                                    "ano": "2023",
                                    "mes": "1",
                                    "monto_acumulado": "3381619804.449998"
                                },
                                {
                                    "ano": "2023",
                                    "mes": "1",
                                    "monto_acumulado": "3381619804.449998"
                                },
                                {
                                    "ano": "2023",
                                    "mes": "1",
                                    "monto_acumulado": "3381619804.449998"
                                },
                                {
                                    "ano": "2023",
                                    "mes": "1",
                                    "monto_acumulado": "3381619804.449998"
                                },
                                {
                                    "ano": "2023",
                                    "mes": "1",
                                    "monto_acumulado": "3381619804.449998"
                                },
                                {
                                    "ano": "2023",
                                    "mes": "1",
                                    "monto_acumulado": "3381619804.449998"
                                },
                                {
                                    "ano": "2023",
                                    "mes": "1",
                                    "monto_acumulado": "3381619804.449998"
                                },
                                {
                                    "ano": "2023",
                                    "mes": "1",
                                    "monto_acumulado": "3381619804.449998"
                                },
                                {
                                    "ano": "2023",
                                    "mes": "1",
                                    "monto_acumulado": "3381619804.449998"
                                },
                                {
                                    "ano": "2023",
                                    "mes": "1",
                                    "monto_acumulado": "3381619804.449998"
                                },
                                {
                                    "ano": "2023",
                                    "mes": "1",
                                    "monto_acumulado": "3381619804.449998"
                                },
                                {
                                    "ano": "2023",
                                    "mes": "1",
                                    "monto_acumulado": "3381619804.449998"
                                },
                                {
                                    "ano": "2023",
                                    "mes": "1",
                                    "monto_acumulado": "3381619804.449998"
                                },
                                {
                                    "ano": "2023",
                                    "mes": "1",
                                    "monto_acumulado": "3381619804.449998"
                                },
                                {
                                    "ano": "2023",
                                    "mes": "1",
                                    "monto_acumulado": "3381619804.449998"
                                },
                                {
                                    "ano": "2023",
                                    "mes": "1",
                                    "monto_acumulado": "3381619804.449998"
                                },
                                {
                                    "ano": "2023",
                                    "mes": "1",
                                    "monto_acumulado": "3381619804.449998"
                                },
                                {
                                    "ano": "2023",
                                    "mes": "1",
                                    "monto_acumulado": "3381619804.449998"
                                },
                                {
                                    "ano": "2023",
                                    "mes": "1",
                                    "monto_acumulado": "3381619804.449998"
                                },
                                {
                                    "ano": "2023",
                                    "mes": "1",
                                    "monto_acumulado": "3381619804.449998"
                                },
                                {
                                    "ano": "2023",
                                    "mes": "1",
                                    "monto_acumulado": "3381619804.449998"
                                },
                                {
                                    "ano": "2023",
                                    "mes": "1",
                                    "monto_acumulado": "3381619804.449998"
                                },
                                {
                                    "ano": "2023",
                                    "mes": "1",
                                    "monto_acumulado": "3381619804.449998"
                                },
                                {
                                    "ano": "2023",
                                    "mes": "1",
                                    "monto_acumulado": "3381619804.449998"
                                },
                                {
                                    "ano": "2023",
                                    "mes": "1",
                                    "monto_acumulado": "3381619804.449998"
                                },
                                {
                                    "ano": "2023",
                                    "mes": "1",
                                    "monto_acumulado": "3381619804.449998"
                                },
                                {
                                    "ano": "2023",
                                    "mes": "1",
                                    "monto_acumulado": "3381619804.449998"
                                },
                                {
                                    "ano": "2023",
                                    "mes": "1",
                                    "monto_acumulado": "3381619804.449998"
                                },
                                {
                                    "ano": "2023",
                                    "mes": "1",
                                    "monto_acumulado": "3381619804.449998"
                                },
                                {
                                    "ano": "2023",
                                    "mes": "1",
                                    "monto_acumulado": "3381619804.449998"
                                },
                                {
                                    "ano": "2023",
                                    "mes": "1",
                                    "monto_acumulado": "3381619804.449998"
                                },
                                {
                                    "ano": "2023",
                                    "mes": "1",
                                    "monto_acumulado": "3381619804.449998"
                                },
                                {
                                    "ano": "2023",
                                    "mes": "1",
                                    "monto_acumulado": "3381619804.449998"
                                },
                                {
                                    "ano": "2023",
                                    "mes": "1",
                                    "monto_acumulado": "3381619804.449998"
                                },
                                {
                                    "ano": "2023",
                                    "mes": "1",
                                    "monto_acumulado": "3381619804.449998"
                                },
                                {
                                    "ano": "2023",
                                    "mes": "1",
                                    "monto_acumulado": "3381619804.449998"
                                },
                                {
                                    "ano": "2023",
                                    "mes": "1",
                                    "monto_acumulado": "3381619804.449998"
                                },
                                {
                                    "ano": "2023",
                                    "mes": "1",
                                    "monto_acumulado": "3381619804.449998"
                                },
                                {
                                    "ano": "2023",
                                    "mes": "1",
                                    "monto_acumulado": "3381619804.449998"
                                },
                                {
                                    "ano": "2023",
                                    "mes": "1",
                                    "monto_acumulado": "3381619804.449998"
                                },
                                {
                                    "ano": "2023",
                                    "mes": "1",
                                    "monto_acumulado": "3381619804.449998"
                                },
                                {
                                    "ano": "2023",
                                    "mes": "1",
                                    "monto_acumulado": "3381619804.449998"
                                },
                                {
                                    "ano": "2023",
                                    "mes": "1",
                                    "monto_acumulado": "3381619804.449998"
                                },
                                {
                                    "ano": "2023",
                                    "mes": "1",
                                    "monto_acumulado": "3381619804.449998"
                                },
                                {
                                    "ano": "2023",
                                    "mes": "1",
                                    "monto_acumulado": "3381619804.449998"
                                },
                                {
                                    "ano": "2023",
                                    "mes": "1",
                                    "monto_acumulado": "3381619804.449998"
                                },
                                {
                                    "ano": "2023",
                                    "mes": "1",
                                    "monto_acumulado": "3381619804.449998"
                                },
                                {
                                    "ano": "2023",
                                    "mes": "1",
                                    "monto_acumulado": "3381619804.449998"
                                },
                                {
                                    "ano": "2023",
                                    "mes": "1",
                                    "monto_acumulado": "3381619804.449998"
                                },
                                {
                                    "ano": "2023",
                                    "mes": "1",
                                    "monto_acumulado": "3381619804.449998"
                                },
                                {
                                    "ano": "2023",
                                    "mes": "1",
                                    "monto_acumulado": "3381619804.449998"
                                },
                                {
                                    "ano": "2023",
                                    "mes": "1",
                                    "monto_acumulado": "3381619804.449998"
                                },
                                {
                                    "ano": "2023",
                                    "mes": "1",
                                    "monto_acumulado": "3381619804.449998"
                                },
                                {
                                    "ano": "2023",
                                    "mes": "1",
                                    "monto_acumulado": "3381619804.449998"
                                },
                                {
                                    "ano": "2023",
                                    "mes": "1",
                                    "monto_acumulado": "3381619804.449998"
                                },
                                {
                                    "ano": "2023",
                                    "mes": "1",
                                    "monto_acumulado": "3381619804.449998"
                                },
                                {
                                    "ano": "2023",
                                    "mes": "1",
                                    "monto_acumulado": "3381619804.449998"
                                },
                                {
                                    "ano": "2023",
                                    "mes": "1",
                                    "monto_acumulado": "3381619804.449998"
                                },
                                {
                                    "ano": "2023",
                                    "mes": "1",
                                    "monto_acumulado": "3381619804.449998"
                                },
                                {
                                    "ano": "2023",
                                    "mes": "1",
                                    "monto_acumulado": "3381619804.449998"
                                },
                                {
                                    "ano": "2023",
                                    "mes": "1",
                                    "monto_acumulado": "3381619804.449998"
                                },
                                {
                                    "ano": "2023",
                                    "mes": "1",
                                    "monto_acumulado": "3381619804.449998"
                                },
                                {
                                    "ano": "2023",
                                    "mes": "1",
                                    "monto_acumulado": "3381619804.449998"
                                },
                                {
                                    "ano": "2023",
                                    "mes": "1",
                                    "monto_acumulado": "3381619804.449998"
                                },
                                {
                                    "ano": "2023",
                                    "mes": "1",
                                    "monto_acumulado": "3381619804.449998"
                                },
                                {
                                    "ano": "2023",
                                    "mes": "1",
                                    "monto_acumulado": "3381619804.449998"
                                },
                                {
                                    "ano": "2023",
                                    "mes": "1",
                                    "monto_acumulado": "3381619804.449998"
                                },
                                {
                                    "ano": "2023",
                                    "mes": "1",
                                    "monto_acumulado": "3381619804.449998"
                                },
                                {
                                    "ano": "2023",
                                    "mes": "1",
                                    "monto_acumulado": "3381619804.449998"
                                },
                                {
                                    "ano": "2023",
                                    "mes": "1",
                                    "monto_acumulado": "3381619804.449998"
                                },
                                {
                                    "ano": "2023",
                                    "mes": "1",
                                    "monto_acumulado": "3381619804.449998"
                                },
                                {
                                    "ano": "2023",
                                    "mes": "1",
                                    "monto_acumulado": "3381619804.449998"
                                },
                                {
                                    "ano": "2023",
                                    "mes": "1",
                                    "monto_acumulado": "3381619804.449998"
                                },
                                {
                                    "ano": "2023",
                                    "mes": "1",
                                    "monto_acumulado": "3381619804.449998"
                                },
                                {
                                    "ano": "2023",
                                    "mes": "1",
                                    "monto_acumulado": "3381619804.449998"
                                },
                                {
                                    "ano": "2023",
                                    "mes": "1",
                                    "monto_acumulado": "3381619804.449998"
                                },
                                {
                                    "ano": "2023",
                                    "mes": "1",
                                    "monto_acumulado": "3381619804.449998"
                                },
                                {
                                    "ano": "2023",
                                    "mes": "1",
                                    "monto_acumulado": "3381619804.449998"
                                },
                                {
                                    "ano": "2023",
                                    "mes": "1",
                                    "monto_acumulado": "3381619804.449998"
                                },
                                {
                                    "ano": "2023",
                                    "mes": "1",
                                    "monto_acumulado": "3381619804.449998"
                                },
                                {
                                    "ano": "2023",
                                    "mes": "1",
                                    "monto_acumulado": "3381619804.449998"
                                },
                                {
                                    "ano": "2023",
                                    "mes": "1",
                                    "monto_acumulado": "3381619804.449998"
                                },
                                {
                                    "ano": "2023",
                                    "mes": "1",
                                    "monto_acumulado": "3381619804.449998"
                                },
                                {
                                    "ano": "2023",
                                    "mes": "1",
                                    "monto_acumulado": "3381619804.449998"
                                },
                                {
                                    "ano": "2023",
                                    "mes": "1",
                                    "monto_acumulado": "3381619804.449998"
                                },
                                {
                                    "ano": "2023",
                                    "mes": "1",
                                    "monto_acumulado": "3381619804.449998"
                                },
                                {
                                    "ano": "2023",
                                    "mes": "1",
                                    "monto_acumulado": "3381619804.449998"
                                },
                                {
                                    "ano": "2023",
                                    "mes": "1",
                                    "monto_acumulado": "3381619804.449998"
                                },
                                {
                                    "ano": "2023",
                                    "mes": "1",
                                    "monto_acumulado": "3381619804.449998"
                                },
                                {
                                    "ano": "2023",
                                    "mes": "1",
                                    "monto_acumulado": "3381619804.449998"
                                },
                                {
                                    "ano": "2023",
                                    "mes": "1",
                                    "monto_acumulado": "3381619804.449998"
                                },
                                {
                                    "ano": "2023",
                                    "mes": "1",
                                    "monto_acumulado": "3381619804.449998"
                                },
                                {
                                    "ano": "2023",
                                    "mes": "1",
                                    "monto_acumulado": "3381619804.449998"
                                },
                                {
                                    "ano": "2023",
                                    "mes": "1",
                                    "monto_acumulado": "3381619804.449998"
                                },
                                {
                                    "ano": "2023",
                                    "mes": "1",
                                    "monto_acumulado": "3381619804.449998"
                                },
                                {
                                    "ano": "2023",
                                    "mes": "1",
                                    "monto_acumulado": "3381619804.449998"
                                },
                                {
                                    "ano": "2023",
                                    "mes": "1",
                                    "monto_acumulado": "3381619804.449998"
                                },
                                {
                                    "ano": "2023",
                                    "mes": "1",
                                    "monto_acumulado": "3381619804.449998"
                                },
                                {
                                    "ano": "2023",
                                    "mes": "1",
                                    "monto_acumulado": "3381619804.449998"
                                },
                                {
                                    "ano": "2023",
                                    "mes": "1",
                                    "monto_acumulado": "3381619804.449998"
                                },
                                {
                                    "ano": "2023",
                                    "mes": "1",
                                    "monto_acumulado": "3381619804.449998"
                                },
                                {
                                    "ano": "2023",
                                    "mes": "1",
                                    "monto_acumulado": "3381619804.449998"
                                },
                                {
                                    "ano": "2023",
                                    "mes": "1",
                                    "monto_acumulado": "3381619804.449998"
                                },
                                {
                                    "ano": "2023",
                                    "mes": "1",
                                    "monto_acumulado": "3381619804.449998"
                                },
                                {
                                    "ano": "2023",
                                    "mes": "1",
                                    "monto_acumulado": "3381619804.449998"
                                },
                                {
                                    "ano": "2023",
                                    "mes": "1",
                                    "monto_acumulado": "3381619804.449998"
                                },
                                {
                                    "ano": "2023",
                                    "mes": "1",
                                    "monto_acumulado": "3381619804.449998"
                                },
                                {
                                    "ano": "2023",
                                    "mes": "1",
                                    "monto_acumulado": "3381619804.449998"
                                },
                                {
                                    "ano": "2023",
                                    "mes": "1",
                                    "monto_acumulado": "3381619804.449998"
                                },
                                {
                                    "ano": "2023",
                                    "mes": "1",
                                    "monto_acumulado": "3381619804.449998"
                                },
                                {
                                    "ano": "2023",
                                    "mes": "1",
                                    "monto_acumulado": "3381619804.449998"
                                },
                                {
                                    "ano": "2023",
                                    "mes": "1",
                                    "monto_acumulado": "3381619804.449998"
                                },
                                {
                                    "ano": "2023",
                                    "mes": "1",
                                    "monto_acumulado": "3381619804.449998"
                                },
                                {
                                    "ano": "2023",
                                    "mes": "1",
                                    "monto_acumulado": "3381619804.449998"
                                },
                                {
                                    "ano": "2023",
                                    "mes": "1",
                                    "monto_acumulado": "3381619804.449998"
                                },
                                {
                                    "ano": "2023",
                                    "mes": "1",
                                    "monto_acumulado": "3381619804.449998"
                                },
                                {
                                    "ano": "2023",
                                    "mes": "1",
                                    "monto_acumulado": "3381619804.449998"
                                },
                                {
                                    "ano": "2023",
                                    "mes": "1",
                                    "monto_acumulado": "3381619804.449998"
                                },
                                {
                                    "ano": "2023",
                                    "mes": "1",
                                    "monto_acumulado": "3381619804.449998"
                                },
                                {
                                    "ano": "2023",
                                    "mes": "1",
                                    "monto_acumulado": "3381619804.449998"
                                },
                                {
                                    "ano": "2023",
                                    "mes": "1",
                                    "monto_acumulado": "3381619804.449998"
                                },
                                {
                                    "ano": "2023",
                                    "mes": "1",
                                    "monto_acumulado": "3381619804.449998"
                                },
                                {
                                    "ano": "2023",
                                    "mes": "1",
                                    "monto_acumulado": "3381619804.449998"
                                },
                                {
                                    "ano": "2023",
                                    "mes": "1",
                                    "monto_acumulado": "3381619804.449998"
                                },
                                {
                                    "ano": "2023",
                                    "mes": "1",
                                    "monto_acumulado": "3381619804.449998"
                                },
                                {
                                    "ano": "2023",
                                    "mes": "1",
                                    "monto_acumulado": "3381619804.449998"
                                },
                                {
                                    "ano": "2023",
                                    "mes": "1",
                                    "monto_acumulado": "3381619804.449998"
                                },
                                {
                                    "ano": "2023",
                                    "mes": "1",
                                    "monto_acumulado": "3381619804.449998"
                                },
                                {
                                    "ano": "2023",
                                    "mes": "1",
                                    "monto_acumulado": "3381619804.449998"
                                },
                                {
                                    "ano": "2023",
                                    "mes": "1",
                                    "monto_acumulado": "3381619804.449998"
                                },
                                {
                                    "ano": "2023",
                                    "mes": "1",
                                    "monto_acumulado": "3381619804.449998"
                                },
                                {
                                    "ano": "2023",
                                    "mes": "1",
                                    "monto_acumulado": "3381619804.449998"
                                },
                                {
                                    "ano": "2023",
                                    "mes": "1",
                                    "monto_acumulado": "3381619804.449998"
                                },
                                {
                                    "ano": "2023",
                                    "mes": "1",
                                    "monto_acumulado": "3381619804.449998"
                                },
                                {
                                    "ano": "2023",
                                    "mes": "1",
                                    "monto_acumulado": "3381619804.449998"
                                },
                                {
                                    "ano": "2023",
                                    "mes": "1",
                                    "monto_acumulado": "3381619804.449998"
                                },
                                {
                                    "ano": "2023",
                                    "mes": "1",
                                    "monto_acumulado": "3381619804.449998"
                                },
                                {
                                    "ano": "2023",
                                    "mes": "1",
                                    "monto_acumulado": "3381619804.449998"
                                },
                                {
                                    "ano": "2023",
                                    "mes": "1",
                                    "monto_acumulado": "3381619804.449998"
                                },
                                {
                                    "ano": "2023",
                                    "mes": "1",
                                    "monto_acumulado": "3381619804.449998"
                                },
                                {
                                    "ano": "2023",
                                    "mes": "1",
                                    "monto_acumulado": "3381619804.449998"
                                },
                                {
                                    "ano": "2023",
                                    "mes": "1",
                                    "monto_acumulado": "3381619804.449998"
                                },
                                {
                                    "ano": "2023",
                                    "mes": "1",
                                    "monto_acumulado": "3381619804.449998"
                                },
                                {
                                    "ano": "2023",
                                    "mes": "1",
                                    "monto_acumulado": "3381619804.449998"
                                },
                                {
                                    "ano": "2023",
                                    "mes": "1",
                                    "monto_acumulado": "3381619804.449998"
                                },
                                {
                                    "ano": "2023",
                                    "mes": "1",
                                    "monto_acumulado": "3381619804.449998"
                                },
                                {
                                    "ano": "2023",
                                    "mes": "1",
                                    "monto_acumulado": "3381619804.449998"
                                },
                                {
                                    "ano": "2023",
                                    "mes": "1",
                                    "monto_acumulado": "3381619804.449998"
                                },
                                {
                                    "ano": "2023",
                                    "mes": "1",
                                    "monto_acumulado": "3381619804.449998"
                                },
                                {
                                    "ano": "2023",
                                    "mes": "1",
                                    "monto_acumulado": "3381619804.449998"
                                },
                                {
                                    "ano": "2023",
                                    "mes": "1",
                                    "monto_acumulado": "3381619804.449998"
                                },
                                {
                                    "ano": "2023",
                                    "mes": "1",
                                    "monto_acumulado": "3381619804.449998"
                                },
                                {
                                    "ano": "2023",
                                    "mes": "1",
                                    "monto_acumulado": "3381619804.449998"
                                },
                                {
                                    "ano": "2023",
                                    "mes": "1",
                                    "monto_acumulado": "3381619804.449998"
                                },
                                {
                                    "ano": "2023",
                                    "mes": "1",
                                    "monto_acumulado": "3381619804.449998"
                                },
                                {
                                    "ano": "2023",
                                    "mes": "1",
                                    "monto_acumulado": "3381619804.449998"
                                },
                                {
                                    "ano": "2023",
                                    "mes": "1",
                                    "monto_acumulado": "3381619804.449998"
                                },
                                {
                                    "ano": "2023",
                                    "mes": "1",
                                    "monto_acumulado": "3381619804.449998"
                                },
                                {
                                    "ano": "2023",
                                    "mes": "1",
                                    "monto_acumulado": "3381619804.449998"
                                },
                                {
                                    "ano": "2023",
                                    "mes": "1",
                                    "monto_acumulado": "3381619804.449998"
                                },
                                {
                                    "ano": "2023",
                                    "mes": "1",
                                    "monto_acumulado": "3381619804.449998"
                                },
                                {
                                    "ano": "2023",
                                    "mes": "1",
                                    "monto_acumulado": "3381619804.449998"
                                },
                                {
                                    "ano": "2023",
                                    "mes": "1",
                                    "monto_acumulado": "3381619804.449998"
                                },
                                {
                                    "ano": "2023",
                                    "mes": "1",
                                    "monto_acumulado": "3381619804.449998"
                                },
                                {
                                    "ano": "2023",
                                    "mes": "1",
                                    "monto_acumulado": "3381619804.449998"
                                },
                                {
                                    "ano": "2023",
                                    "mes": "1",
                                    "monto_acumulado": "3381619804.449998"
                                },
                                {
                                    "ano": "2023",
                                    "mes": "1",
                                    "monto_acumulado": "3381619804.449998"
                                },
                                {
                                    "ano": "2023",
                                    "mes": "1",
                                    "monto_acumulado": "3381619804.449998"
                                },
                                {
                                    "ano": "2023",
                                    "mes": "1",
                                    "monto_acumulado": "3381619804.449998"
                                },
                                {
                                    "ano": "2023",
                                    "mes": "1",
                                    "monto_acumulado": "3381619804.449998"
                                },
                                {
                                    "ano": "2023",
                                    "mes": "1",
                                    "monto_acumulado": "3381619804.449998"
                                },
                                {
                                    "ano": "2023",
                                    "mes": "1",
                                    "monto_acumulado": "3381619804.449998"
                                },
                                {
                                    "ano": "2023",
                                    "mes": "1",
                                    "monto_acumulado": "3381619804.449998"
                                },
                                {
                                    "ano": "2023",
                                    "mes": "1",
                                    "monto_acumulado": "3381619804.449998"
                                },
                                {
                                    "ano": "2023",
                                    "mes": "1",
                                    "monto_acumulado": "3381619804.449998"
                                },
                                {
                                    "ano": "2023",
                                    "mes": "1",
                                    "monto_acumulado": "3381619804.449998"
                                },
                                {
                                    "ano": "2023",
                                    "mes": "1",
                                    "monto_acumulado": "3381619804.449998"
                                },
                                {
                                    "ano": "2023",
                                    "mes": "1",
                                    "monto_acumulado": "3381619804.449998"
                                },
                                {
                                    "ano": "2023",
                                    "mes": "1",
                                    "monto_acumulado": "3381619804.449998"
                                },
                                {
                                    "ano": "2023",
                                    "mes": "1",
                                    "monto_acumulado": "3381619804.449998"
                                },
                                {
                                    "ano": "2023",
                                    "mes": "1",
                                    "monto_acumulado": "3381619804.449998"
                                },
                                {
                                    "ano": "2023",
                                    "mes": "1",
                                    "monto_acumulado": "3381619804.449998"
                                },
                                {
                                    "ano": "2023",
                                    "mes": "1",
                                    "monto_acumulado": "3381619804.449998"
                                },
                                {
                                    "ano": "2023",
                                    "mes": "1",
                                    "monto_acumulado": "3381619804.449998"
                                },
                                {
                                    "ano": "2023",
                                    "mes": "1",
                                    "monto_acumulado": "3381619804.449998"
                                },
                                {
                                    "ano": "2023",
                                    "mes": "1",
                                    "monto_acumulado": "3381619804.449998"
                                },
                                {
                                    "ano": "2023",
                                    "mes": "1",
                                    "monto_acumulado": "3381619804.449998"
                                },
                                {
                                    "ano": "2023",
                                    "mes": "1",
                                    "monto_acumulado": "3381619804.449998"
                                },
                                {
                                    "ano": "2023",
                                    "mes": "1",
                                    "monto_acumulado": "3381619804.449998"
                                },
                                {
                                    "ano": "2023",
                                    "mes": "1",
                                    "monto_acumulado": "3381619804.449998"
                                },
                                {
                                    "ano": "2023",
                                    "mes": "1",
                                    "monto_acumulado": "3381619804.449998"
                                },
                                {
                                    "ano": "2023",
                                    "mes": "1",
                                    "monto_acumulado": "3381619804.449998"
                                },
                                {
                                    "ano": "2023",
                                    "mes": "1",
                                    "monto_acumulado": "3381619804.449998"
                                },
                                {
                                    "ano": "2023",
                                    "mes": "1",
                                    "monto_acumulado": "3381619804.449998"
                                },
                                {
                                    "ano": "2023",
                                    "mes": "1",
                                    "monto_acumulado": "3381619804.449998"
                                },
                                {
                                    "ano": "2023",
                                    "mes": "1",
                                    "monto_acumulado": "3381619804.449998"
                                },
                                {
                                    "ano": "2023",
                                    "mes": "1",
                                    "monto_acumulado": "3381619804.449998"
                                },
                                {
                                    "ano": "2023",
                                    "mes": "1",
                                    "monto_acumulado": "3381619804.449998"
                                },
                                {
                                    "ano": "2023",
                                    "mes": "1",
                                    "monto_acumulado": "3381619804.449998"
                                },
                                {
                                    "ano": "2023",
                                    "mes": "1",
                                    "monto_acumulado": "3381619804.449998"
                                },
                                {
                                    "ano": "2023",
                                    "mes": "1",
                                    "monto_acumulado": "3381619804.449998"
                                },
                                {
                                    "ano": "2023",
                                    "mes": "1",
                                    "monto_acumulado": "3381619804.449998"
                                },
                                {
                                    "ano": "2023",
                                    "mes": "1",
                                    "monto_acumulado": "3381619804.449998"
                                },
                                {
                                    "ano": "2023",
                                    "mes": "1",
                                    "monto_acumulado": "3381619804.449998"
                                },
                                {
                                    "ano": "2023",
                                    "mes": "1",
                                    "monto_acumulado": "3381619804.449998"
                                },
                                {
                                    "ano": "2023",
                                    "mes": "1",
                                    "monto_acumulado": "3381619804.449998"
                                },
                                {
                                    "ano": "2023",
                                    "mes": "1",
                                    "monto_acumulado": "3381619804.449998"
                                },
                                {
                                    "ano": "2023",
                                    "mes": "1",
                                    "monto_acumulado": "3381619804.449998"
                                },
                                {
                                    "ano": "2023",
                                    "mes": "1",
                                    "monto_acumulado": "3381619804.449998"
                                },
                                {
                                    "ano": "2023",
                                    "mes": "1",
                                    "monto_acumulado": "3381619804.449998"
                                },
                                {
                                    "ano": "2023",
                                    "mes": "1",
                                    "monto_acumulado": "3381619804.449998"
                                },
                                {
                                    "ano": "2023",
                                    "mes": "1",
                                    "monto_acumulado": "3381619804.449998"
                                }
                            ]
                        },
                        "text/html": "<table><tr><th>ano</th><th>mes</th><th>monto_acumulado</th></tr><tr><td>2023</td><td>1</td><td>3381619804.449998</td></tr><tr><td>2023</td><td>1</td><td>3381619804.449998</td></tr><tr><td>2023</td><td>1</td><td>3381619804.449998</td></tr><tr><td>2023</td><td>1</td><td>3381619804.449998</td></tr><tr><td>2023</td><td>1</td><td>3381619804.449998</td></tr><tr><td>2023</td><td>1</td><td>3381619804.449998</td></tr><tr><td>2023</td><td>1</td><td>3381619804.449998</td></tr><tr><td>2023</td><td>1</td><td>3381619804.449998</td></tr><tr><td>2023</td><td>1</td><td>3381619804.449998</td></tr><tr><td>2023</td><td>1</td><td>3381619804.449998</td></tr><tr><td>2023</td><td>1</td><td>3381619804.449998</td></tr><tr><td>2023</td><td>1</td><td>3381619804.449998</td></tr><tr><td>2023</td><td>1</td><td>3381619804.449998</td></tr><tr><td>2023</td><td>1</td><td>3381619804.449998</td></tr><tr><td>2023</td><td>1</td><td>3381619804.449998</td></tr><tr><td>2023</td><td>1</td><td>3381619804.449998</td></tr><tr><td>2023</td><td>1</td><td>3381619804.449998</td></tr><tr><td>2023</td><td>1</td><td>3381619804.449998</td></tr><tr><td>2023</td><td>1</td><td>3381619804.449998</td></tr><tr><td>2023</td><td>1</td><td>3381619804.449998</td></tr><tr><td>2023</td><td>1</td><td>3381619804.449998</td></tr><tr><td>2023</td><td>1</td><td>3381619804.449998</td></tr><tr><td>2023</td><td>1</td><td>3381619804.449998</td></tr><tr><td>2023</td><td>1</td><td>3381619804.449998</td></tr><tr><td>2023</td><td>1</td><td>3381619804.449998</td></tr><tr><td>2023</td><td>1</td><td>3381619804.449998</td></tr><tr><td>2023</td><td>1</td><td>3381619804.449998</td></tr><tr><td>2023</td><td>1</td><td>3381619804.449998</td></tr><tr><td>2023</td><td>1</td><td>3381619804.449998</td></tr><tr><td>2023</td><td>1</td><td>3381619804.449998</td></tr><tr><td>2023</td><td>1</td><td>3381619804.449998</td></tr><tr><td>2023</td><td>1</td><td>3381619804.449998</td></tr><tr><td>2023</td><td>1</td><td>3381619804.449998</td></tr><tr><td>2023</td><td>1</td><td>3381619804.449998</td></tr><tr><td>2023</td><td>1</td><td>3381619804.449998</td></tr><tr><td>2023</td><td>1</td><td>3381619804.449998</td></tr><tr><td>2023</td><td>1</td><td>3381619804.449998</td></tr><tr><td>2023</td><td>1</td><td>3381619804.449998</td></tr><tr><td>2023</td><td>1</td><td>3381619804.449998</td></tr><tr><td>2023</td><td>1</td><td>3381619804.449998</td></tr><tr><td>2023</td><td>1</td><td>3381619804.449998</td></tr><tr><td>2023</td><td>1</td><td>3381619804.449998</td></tr><tr><td>2023</td><td>1</td><td>3381619804.449998</td></tr><tr><td>2023</td><td>1</td><td>3381619804.449998</td></tr><tr><td>2023</td><td>1</td><td>3381619804.449998</td></tr><tr><td>2023</td><td>1</td><td>3381619804.449998</td></tr><tr><td>2023</td><td>1</td><td>3381619804.449998</td></tr><tr><td>2023</td><td>1</td><td>3381619804.449998</td></tr><tr><td>2023</td><td>1</td><td>3381619804.449998</td></tr><tr><td>2023</td><td>1</td><td>3381619804.449998</td></tr><tr><td>2023</td><td>1</td><td>3381619804.449998</td></tr><tr><td>2023</td><td>1</td><td>3381619804.449998</td></tr><tr><td>2023</td><td>1</td><td>3381619804.449998</td></tr><tr><td>2023</td><td>1</td><td>3381619804.449998</td></tr><tr><td>2023</td><td>1</td><td>3381619804.449998</td></tr><tr><td>2023</td><td>1</td><td>3381619804.449998</td></tr><tr><td>2023</td><td>1</td><td>3381619804.449998</td></tr><tr><td>2023</td><td>1</td><td>3381619804.449998</td></tr><tr><td>2023</td><td>1</td><td>3381619804.449998</td></tr><tr><td>2023</td><td>1</td><td>3381619804.449998</td></tr><tr><td>2023</td><td>1</td><td>3381619804.449998</td></tr><tr><td>2023</td><td>1</td><td>3381619804.449998</td></tr><tr><td>2023</td><td>1</td><td>3381619804.449998</td></tr><tr><td>2023</td><td>1</td><td>3381619804.449998</td></tr><tr><td>2023</td><td>1</td><td>3381619804.449998</td></tr><tr><td>2023</td><td>1</td><td>3381619804.449998</td></tr><tr><td>2023</td><td>1</td><td>3381619804.449998</td></tr><tr><td>2023</td><td>1</td><td>3381619804.449998</td></tr><tr><td>2023</td><td>1</td><td>3381619804.449998</td></tr><tr><td>2023</td><td>1</td><td>3381619804.449998</td></tr><tr><td>2023</td><td>1</td><td>3381619804.449998</td></tr><tr><td>2023</td><td>1</td><td>3381619804.449998</td></tr><tr><td>2023</td><td>1</td><td>3381619804.449998</td></tr><tr><td>2023</td><td>1</td><td>3381619804.449998</td></tr><tr><td>2023</td><td>1</td><td>3381619804.449998</td></tr><tr><td>2023</td><td>1</td><td>3381619804.449998</td></tr><tr><td>2023</td><td>1</td><td>3381619804.449998</td></tr><tr><td>2023</td><td>1</td><td>3381619804.449998</td></tr><tr><td>2023</td><td>1</td><td>3381619804.449998</td></tr><tr><td>2023</td><td>1</td><td>3381619804.449998</td></tr><tr><td>2023</td><td>1</td><td>3381619804.449998</td></tr><tr><td>2023</td><td>1</td><td>3381619804.449998</td></tr><tr><td>2023</td><td>1</td><td>3381619804.449998</td></tr><tr><td>2023</td><td>1</td><td>3381619804.449998</td></tr><tr><td>2023</td><td>1</td><td>3381619804.449998</td></tr><tr><td>2023</td><td>1</td><td>3381619804.449998</td></tr><tr><td>2023</td><td>1</td><td>3381619804.449998</td></tr><tr><td>2023</td><td>1</td><td>3381619804.449998</td></tr><tr><td>2023</td><td>1</td><td>3381619804.449998</td></tr><tr><td>2023</td><td>1</td><td>3381619804.449998</td></tr><tr><td>2023</td><td>1</td><td>3381619804.449998</td></tr><tr><td>2023</td><td>1</td><td>3381619804.449998</td></tr><tr><td>2023</td><td>1</td><td>3381619804.449998</td></tr><tr><td>2023</td><td>1</td><td>3381619804.449998</td></tr><tr><td>2023</td><td>1</td><td>3381619804.449998</td></tr><tr><td>2023</td><td>1</td><td>3381619804.449998</td></tr><tr><td>2023</td><td>1</td><td>3381619804.449998</td></tr><tr><td>2023</td><td>1</td><td>3381619804.449998</td></tr><tr><td>2023</td><td>1</td><td>3381619804.449998</td></tr><tr><td>2023</td><td>1</td><td>3381619804.449998</td></tr><tr><td>2023</td><td>1</td><td>3381619804.449998</td></tr><tr><td>2023</td><td>1</td><td>3381619804.449998</td></tr><tr><td>2023</td><td>1</td><td>3381619804.449998</td></tr><tr><td>2023</td><td>1</td><td>3381619804.449998</td></tr><tr><td>2023</td><td>1</td><td>3381619804.449998</td></tr><tr><td>2023</td><td>1</td><td>3381619804.449998</td></tr><tr><td>2023</td><td>1</td><td>3381619804.449998</td></tr><tr><td>2023</td><td>1</td><td>3381619804.449998</td></tr><tr><td>2023</td><td>1</td><td>3381619804.449998</td></tr><tr><td>2023</td><td>1</td><td>3381619804.449998</td></tr><tr><td>2023</td><td>1</td><td>3381619804.449998</td></tr><tr><td>2023</td><td>1</td><td>3381619804.449998</td></tr><tr><td>2023</td><td>1</td><td>3381619804.449998</td></tr><tr><td>2023</td><td>1</td><td>3381619804.449998</td></tr><tr><td>2023</td><td>1</td><td>3381619804.449998</td></tr><tr><td>2023</td><td>1</td><td>3381619804.449998</td></tr><tr><td>2023</td><td>1</td><td>3381619804.449998</td></tr><tr><td>2023</td><td>1</td><td>3381619804.449998</td></tr><tr><td>2023</td><td>1</td><td>3381619804.449998</td></tr><tr><td>2023</td><td>1</td><td>3381619804.449998</td></tr><tr><td>2023</td><td>1</td><td>3381619804.449998</td></tr><tr><td>2023</td><td>1</td><td>3381619804.449998</td></tr><tr><td>2023</td><td>1</td><td>3381619804.449998</td></tr><tr><td>2023</td><td>1</td><td>3381619804.449998</td></tr><tr><td>2023</td><td>1</td><td>3381619804.449998</td></tr><tr><td>2023</td><td>1</td><td>3381619804.449998</td></tr><tr><td>2023</td><td>1</td><td>3381619804.449998</td></tr><tr><td>2023</td><td>1</td><td>3381619804.449998</td></tr><tr><td>2023</td><td>1</td><td>3381619804.449998</td></tr><tr><td>2023</td><td>1</td><td>3381619804.449998</td></tr><tr><td>2023</td><td>1</td><td>3381619804.449998</td></tr><tr><td>2023</td><td>1</td><td>3381619804.449998</td></tr><tr><td>2023</td><td>1</td><td>3381619804.449998</td></tr><tr><td>2023</td><td>1</td><td>3381619804.449998</td></tr><tr><td>2023</td><td>1</td><td>3381619804.449998</td></tr><tr><td>2023</td><td>1</td><td>3381619804.449998</td></tr><tr><td>2023</td><td>1</td><td>3381619804.449998</td></tr><tr><td>2023</td><td>1</td><td>3381619804.449998</td></tr><tr><td>2023</td><td>1</td><td>3381619804.449998</td></tr><tr><td>2023</td><td>1</td><td>3381619804.449998</td></tr><tr><td>2023</td><td>1</td><td>3381619804.449998</td></tr><tr><td>2023</td><td>1</td><td>3381619804.449998</td></tr><tr><td>2023</td><td>1</td><td>3381619804.449998</td></tr><tr><td>2023</td><td>1</td><td>3381619804.449998</td></tr><tr><td>2023</td><td>1</td><td>3381619804.449998</td></tr><tr><td>2023</td><td>1</td><td>3381619804.449998</td></tr><tr><td>2023</td><td>1</td><td>3381619804.449998</td></tr><tr><td>2023</td><td>1</td><td>3381619804.449998</td></tr><tr><td>2023</td><td>1</td><td>3381619804.449998</td></tr><tr><td>2023</td><td>1</td><td>3381619804.449998</td></tr><tr><td>2023</td><td>1</td><td>3381619804.449998</td></tr><tr><td>2023</td><td>1</td><td>3381619804.449998</td></tr><tr><td>2023</td><td>1</td><td>3381619804.449998</td></tr><tr><td>2023</td><td>1</td><td>3381619804.449998</td></tr><tr><td>2023</td><td>1</td><td>3381619804.449998</td></tr><tr><td>2023</td><td>1</td><td>3381619804.449998</td></tr><tr><td>2023</td><td>1</td><td>3381619804.449998</td></tr><tr><td>2023</td><td>1</td><td>3381619804.449998</td></tr><tr><td>2023</td><td>1</td><td>3381619804.449998</td></tr><tr><td>2023</td><td>1</td><td>3381619804.449998</td></tr><tr><td>2023</td><td>1</td><td>3381619804.449998</td></tr><tr><td>2023</td><td>1</td><td>3381619804.449998</td></tr><tr><td>2023</td><td>1</td><td>3381619804.449998</td></tr><tr><td>2023</td><td>1</td><td>3381619804.449998</td></tr><tr><td>2023</td><td>1</td><td>3381619804.449998</td></tr><tr><td>2023</td><td>1</td><td>3381619804.449998</td></tr><tr><td>2023</td><td>1</td><td>3381619804.449998</td></tr><tr><td>2023</td><td>1</td><td>3381619804.449998</td></tr><tr><td>2023</td><td>1</td><td>3381619804.449998</td></tr><tr><td>2023</td><td>1</td><td>3381619804.449998</td></tr><tr><td>2023</td><td>1</td><td>3381619804.449998</td></tr><tr><td>2023</td><td>1</td><td>3381619804.449998</td></tr><tr><td>2023</td><td>1</td><td>3381619804.449998</td></tr><tr><td>2023</td><td>1</td><td>3381619804.449998</td></tr><tr><td>2023</td><td>1</td><td>3381619804.449998</td></tr><tr><td>2023</td><td>1</td><td>3381619804.449998</td></tr><tr><td>2023</td><td>1</td><td>3381619804.449998</td></tr><tr><td>2023</td><td>1</td><td>3381619804.449998</td></tr><tr><td>2023</td><td>1</td><td>3381619804.449998</td></tr><tr><td>2023</td><td>1</td><td>3381619804.449998</td></tr><tr><td>2023</td><td>1</td><td>3381619804.449998</td></tr><tr><td>2023</td><td>1</td><td>3381619804.449998</td></tr><tr><td>2023</td><td>1</td><td>3381619804.449998</td></tr><tr><td>2023</td><td>1</td><td>3381619804.449998</td></tr><tr><td>2023</td><td>1</td><td>3381619804.449998</td></tr><tr><td>2023</td><td>1</td><td>3381619804.449998</td></tr><tr><td>2023</td><td>1</td><td>3381619804.449998</td></tr><tr><td>2023</td><td>1</td><td>3381619804.449998</td></tr><tr><td>2023</td><td>1</td><td>3381619804.449998</td></tr><tr><td>2023</td><td>1</td><td>3381619804.449998</td></tr><tr><td>2023</td><td>1</td><td>3381619804.449998</td></tr><tr><td>2023</td><td>1</td><td>3381619804.449998</td></tr><tr><td>2023</td><td>1</td><td>3381619804.449998</td></tr><tr><td>2023</td><td>1</td><td>3381619804.449998</td></tr><tr><td>2023</td><td>1</td><td>3381619804.449998</td></tr><tr><td>2023</td><td>1</td><td>3381619804.449998</td></tr><tr><td>2023</td><td>1</td><td>3381619804.449998</td></tr><tr><td>2023</td><td>1</td><td>3381619804.449998</td></tr><tr><td>2023</td><td>1</td><td>3381619804.449998</td></tr><tr><td>2023</td><td>1</td><td>3381619804.449998</td></tr><tr><td>2023</td><td>1</td><td>3381619804.449998</td></tr><tr><td>2023</td><td>1</td><td>3381619804.449998</td></tr><tr><td>2023</td><td>1</td><td>3381619804.449998</td></tr><tr><td>2023</td><td>1</td><td>3381619804.449998</td></tr><tr><td>2023</td><td>1</td><td>3381619804.449998</td></tr><tr><td>2023</td><td>1</td><td>3381619804.449998</td></tr><tr><td>2023</td><td>1</td><td>3381619804.449998</td></tr><tr><td>2023</td><td>1</td><td>3381619804.449998</td></tr><tr><td>2023</td><td>1</td><td>3381619804.449998</td></tr><tr><td>2023</td><td>1</td><td>3381619804.449998</td></tr><tr><td>2023</td><td>1</td><td>3381619804.449998</td></tr><tr><td>2023</td><td>1</td><td>3381619804.449998</td></tr><tr><td>2023</td><td>1</td><td>3381619804.449998</td></tr><tr><td>2023</td><td>1</td><td>3381619804.449998</td></tr><tr><td>2023</td><td>1</td><td>3381619804.449998</td></tr><tr><td>2023</td><td>1</td><td>3381619804.449998</td></tr><tr><td>2023</td><td>1</td><td>3381619804.449998</td></tr><tr><td>2023</td><td>1</td><td>3381619804.449998</td></tr><tr><td>2023</td><td>1</td><td>3381619804.449998</td></tr><tr><td>2023</td><td>1</td><td>3381619804.449998</td></tr><tr><td>2023</td><td>1</td><td>3381619804.449998</td></tr><tr><td>2023</td><td>1</td><td>3381619804.449998</td></tr><tr><td>2023</td><td>1</td><td>3381619804.449998</td></tr><tr><td>2023</td><td>1</td><td>3381619804.449998</td></tr><tr><td>2023</td><td>1</td><td>3381619804.449998</td></tr><tr><td>2023</td><td>1</td><td>3381619804.449998</td></tr><tr><td>2023</td><td>1</td><td>3381619804.449998</td></tr><tr><td>2023</td><td>1</td><td>3381619804.449998</td></tr><tr><td>2023</td><td>1</td><td>3381619804.449998</td></tr><tr><td>2023</td><td>1</td><td>3381619804.449998</td></tr><tr><td>2023</td><td>1</td><td>3381619804.449998</td></tr><tr><td>2023</td><td>1</td><td>3381619804.449998</td></tr><tr><td>2023</td><td>1</td><td>3381619804.449998</td></tr><tr><td>2023</td><td>1</td><td>3381619804.449998</td></tr><tr><td>2023</td><td>1</td><td>3381619804.449998</td></tr><tr><td>2023</td><td>1</td><td>3381619804.449998</td></tr><tr><td>2023</td><td>1</td><td>3381619804.449998</td></tr><tr><td>2023</td><td>1</td><td>3381619804.449998</td></tr><tr><td>2023</td><td>1</td><td>3381619804.449998</td></tr><tr><td>2023</td><td>1</td><td>3381619804.449998</td></tr><tr><td>2023</td><td>1</td><td>3381619804.449998</td></tr><tr><td>2023</td><td>1</td><td>3381619804.449998</td></tr><tr><td>2023</td><td>1</td><td>3381619804.449998</td></tr><tr><td>2023</td><td>1</td><td>3381619804.449998</td></tr><tr><td>2023</td><td>1</td><td>3381619804.449998</td></tr><tr><td>2023</td><td>1</td><td>3381619804.449998</td></tr><tr><td>2023</td><td>1</td><td>3381619804.449998</td></tr><tr><td>2023</td><td>1</td><td>3381619804.449998</td></tr><tr><td>2023</td><td>1</td><td>3381619804.449998</td></tr><tr><td>2023</td><td>1</td><td>3381619804.449998</td></tr><tr><td>2023</td><td>1</td><td>3381619804.449998</td></tr><tr><td>2023</td><td>1</td><td>3381619804.449998</td></tr><tr><td>2023</td><td>1</td><td>3381619804.449998</td></tr><tr><td>2023</td><td>1</td><td>3381619804.449998</td></tr><tr><td>2023</td><td>1</td><td>3381619804.449998</td></tr><tr><td>2023</td><td>1</td><td>3381619804.449998</td></tr><tr><td>2023</td><td>1</td><td>3381619804.449998</td></tr><tr><td>2023</td><td>1</td><td>3381619804.449998</td></tr><tr><td>2023</td><td>1</td><td>3381619804.449998</td></tr><tr><td>2023</td><td>1</td><td>3381619804.449998</td></tr><tr><td>2023</td><td>1</td><td>3381619804.449998</td></tr><tr><td>2023</td><td>1</td><td>3381619804.449998</td></tr><tr><td>2023</td><td>1</td><td>3381619804.449998</td></tr><tr><td>2023</td><td>1</td><td>3381619804.449998</td></tr><tr><td>2023</td><td>1</td><td>3381619804.449998</td></tr><tr><td>2023</td><td>1</td><td>3381619804.449998</td></tr><tr><td>2023</td><td>1</td><td>3381619804.449998</td></tr><tr><td>2023</td><td>1</td><td>3381619804.449998</td></tr><tr><td>2023</td><td>1</td><td>3381619804.449998</td></tr><tr><td>2023</td><td>1</td><td>3381619804.449998</td></tr><tr><td>2023</td><td>1</td><td>3381619804.449998</td></tr><tr><td>2023</td><td>1</td><td>3381619804.449998</td></tr><tr><td>2023</td><td>1</td><td>3381619804.449998</td></tr><tr><td>2023</td><td>1</td><td>3381619804.449998</td></tr><tr><td>2023</td><td>1</td><td>3381619804.449998</td></tr><tr><td>2023</td><td>1</td><td>3381619804.449998</td></tr><tr><td>2023</td><td>1</td><td>3381619804.449998</td></tr><tr><td>2023</td><td>1</td><td>3381619804.449998</td></tr><tr><td>2023</td><td>1</td><td>3381619804.449998</td></tr><tr><td>2023</td><td>1</td><td>3381619804.449998</td></tr><tr><td>2023</td><td>1</td><td>3381619804.449998</td></tr><tr><td>2023</td><td>1</td><td>3381619804.449998</td></tr><tr><td>2023</td><td>1</td><td>3381619804.449998</td></tr><tr><td>2023</td><td>1</td><td>3381619804.449998</td></tr><tr><td>2023</td><td>1</td><td>3381619804.449998</td></tr><tr><td>2023</td><td>1</td><td>3381619804.449998</td></tr><tr><td>2023</td><td>1</td><td>3381619804.449998</td></tr><tr><td>2023</td><td>1</td><td>3381619804.449998</td></tr><tr><td>2023</td><td>1</td><td>3381619804.449998</td></tr><tr><td>2023</td><td>1</td><td>3381619804.449998</td></tr><tr><td>2023</td><td>1</td><td>3381619804.449998</td></tr><tr><td>2023</td><td>1</td><td>3381619804.449998</td></tr><tr><td>2023</td><td>1</td><td>3381619804.449998</td></tr><tr><td>2023</td><td>1</td><td>3381619804.449998</td></tr><tr><td>2023</td><td>1</td><td>3381619804.449998</td></tr><tr><td>2023</td><td>1</td><td>3381619804.449998</td></tr><tr><td>2023</td><td>1</td><td>3381619804.449998</td></tr><tr><td>2023</td><td>1</td><td>3381619804.449998</td></tr><tr><td>2023</td><td>1</td><td>3381619804.449998</td></tr><tr><td>2023</td><td>1</td><td>3381619804.449998</td></tr><tr><td>2023</td><td>1</td><td>3381619804.449998</td></tr><tr><td>2023</td><td>1</td><td>3381619804.449998</td></tr><tr><td>2023</td><td>1</td><td>3381619804.449998</td></tr><tr><td>2023</td><td>1</td><td>3381619804.449998</td></tr><tr><td>2023</td><td>1</td><td>3381619804.449998</td></tr><tr><td>2023</td><td>1</td><td>3381619804.449998</td></tr><tr><td>2023</td><td>1</td><td>3381619804.449998</td></tr><tr><td>2023</td><td>1</td><td>3381619804.449998</td></tr><tr><td>2023</td><td>1</td><td>3381619804.449998</td></tr><tr><td>2023</td><td>1</td><td>3381619804.449998</td></tr><tr><td>2023</td><td>1</td><td>3381619804.449998</td></tr><tr><td>2023</td><td>1</td><td>3381619804.449998</td></tr><tr><td>2023</td><td>1</td><td>3381619804.449998</td></tr><tr><td>2023</td><td>1</td><td>3381619804.449998</td></tr><tr><td>2023</td><td>1</td><td>3381619804.449998</td></tr><tr><td>2023</td><td>1</td><td>3381619804.449998</td></tr><tr><td>2023</td><td>1</td><td>3381619804.449998</td></tr><tr><td>2023</td><td>1</td><td>3381619804.449998</td></tr><tr><td>2023</td><td>1</td><td>3381619804.449998</td></tr><tr><td>2023</td><td>1</td><td>3381619804.449998</td></tr><tr><td>2023</td><td>1</td><td>3381619804.449998</td></tr><tr><td>2023</td><td>1</td><td>3381619804.449998</td></tr><tr><td>2023</td><td>1</td><td>3381619804.449998</td></tr><tr><td>2023</td><td>1</td><td>3381619804.449998</td></tr><tr><td>2023</td><td>1</td><td>3381619804.449998</td></tr><tr><td>2023</td><td>1</td><td>3381619804.449998</td></tr><tr><td>2023</td><td>1</td><td>3381619804.449998</td></tr><tr><td>2023</td><td>1</td><td>3381619804.449998</td></tr><tr><td>2023</td><td>1</td><td>3381619804.449998</td></tr><tr><td>2023</td><td>1</td><td>3381619804.449998</td></tr><tr><td>2023</td><td>1</td><td>3381619804.449998</td></tr><tr><td>2023</td><td>1</td><td>3381619804.449998</td></tr><tr><td>2023</td><td>1</td><td>3381619804.449998</td></tr><tr><td>2023</td><td>1</td><td>3381619804.449998</td></tr><tr><td>2023</td><td>1</td><td>3381619804.449998</td></tr><tr><td>2023</td><td>1</td><td>3381619804.449998</td></tr><tr><td>2023</td><td>1</td><td>3381619804.449998</td></tr><tr><td>2023</td><td>1</td><td>3381619804.449998</td></tr><tr><td>2023</td><td>1</td><td>3381619804.449998</td></tr><tr><td>2023</td><td>1</td><td>3381619804.449998</td></tr><tr><td>2023</td><td>1</td><td>3381619804.449998</td></tr><tr><td>2023</td><td>1</td><td>3381619804.449998</td></tr><tr><td>2023</td><td>1</td><td>3381619804.449998</td></tr><tr><td>2023</td><td>1</td><td>3381619804.449998</td></tr><tr><td>2023</td><td>1</td><td>3381619804.449998</td></tr><tr><td>2023</td><td>1</td><td>3381619804.449998</td></tr><tr><td>2023</td><td>1</td><td>3381619804.449998</td></tr><tr><td>2023</td><td>1</td><td>3381619804.449998</td></tr><tr><td>2023</td><td>1</td><td>3381619804.449998</td></tr><tr><td>2023</td><td>1</td><td>3381619804.449998</td></tr><tr><td>2023</td><td>1</td><td>3381619804.449998</td></tr><tr><td>2023</td><td>1</td><td>3381619804.449998</td></tr><tr><td>2023</td><td>1</td><td>3381619804.449998</td></tr><tr><td>2023</td><td>1</td><td>3381619804.449998</td></tr><tr><td>2023</td><td>1</td><td>3381619804.449998</td></tr><tr><td>2023</td><td>1</td><td>3381619804.449998</td></tr><tr><td>2023</td><td>1</td><td>3381619804.449998</td></tr><tr><td>2023</td><td>1</td><td>3381619804.449998</td></tr><tr><td>2023</td><td>1</td><td>3381619804.449998</td></tr><tr><td>2023</td><td>1</td><td>3381619804.449998</td></tr><tr><td>2023</td><td>1</td><td>3381619804.449998</td></tr><tr><td>2023</td><td>1</td><td>3381619804.449998</td></tr><tr><td>2023</td><td>1</td><td>3381619804.449998</td></tr><tr><td>2023</td><td>1</td><td>3381619804.449998</td></tr><tr><td>2023</td><td>1</td><td>3381619804.449998</td></tr><tr><td>2023</td><td>1</td><td>3381619804.449998</td></tr><tr><td>2023</td><td>1</td><td>3381619804.449998</td></tr><tr><td>2023</td><td>1</td><td>3381619804.449998</td></tr><tr><td>2023</td><td>1</td><td>3381619804.449998</td></tr><tr><td>2023</td><td>1</td><td>3381619804.449998</td></tr><tr><td>2023</td><td>1</td><td>3381619804.449998</td></tr><tr><td>2023</td><td>1</td><td>3381619804.449998</td></tr><tr><td>2023</td><td>1</td><td>3381619804.449998</td></tr><tr><td>2023</td><td>1</td><td>3381619804.449998</td></tr><tr><td>2023</td><td>1</td><td>3381619804.449998</td></tr><tr><td>2023</td><td>1</td><td>3381619804.449998</td></tr><tr><td>2023</td><td>1</td><td>3381619804.449998</td></tr><tr><td>2023</td><td>1</td><td>3381619804.449998</td></tr><tr><td>2023</td><td>1</td><td>3381619804.449998</td></tr><tr><td>2023</td><td>1</td><td>3381619804.449998</td></tr><tr><td>2023</td><td>1</td><td>3381619804.449998</td></tr><tr><td>2023</td><td>1</td><td>3381619804.449998</td></tr><tr><td>2023</td><td>1</td><td>3381619804.449998</td></tr><tr><td>2023</td><td>1</td><td>3381619804.449998</td></tr><tr><td>2023</td><td>1</td><td>3381619804.449998</td></tr><tr><td>2023</td><td>1</td><td>3381619804.449998</td></tr><tr><td>2023</td><td>1</td><td>3381619804.449998</td></tr><tr><td>2023</td><td>1</td><td>3381619804.449998</td></tr><tr><td>2023</td><td>1</td><td>3381619804.449998</td></tr><tr><td>2023</td><td>1</td><td>3381619804.449998</td></tr><tr><td>2023</td><td>1</td><td>3381619804.449998</td></tr><tr><td>2023</td><td>1</td><td>3381619804.449998</td></tr><tr><td>2023</td><td>1</td><td>3381619804.449998</td></tr><tr><td>2023</td><td>1</td><td>3381619804.449998</td></tr><tr><td>2023</td><td>1</td><td>3381619804.449998</td></tr><tr><td>2023</td><td>1</td><td>3381619804.449998</td></tr><tr><td>2023</td><td>1</td><td>3381619804.449998</td></tr><tr><td>2023</td><td>1</td><td>3381619804.449998</td></tr><tr><td>2023</td><td>1</td><td>3381619804.449998</td></tr><tr><td>2023</td><td>1</td><td>3381619804.449998</td></tr><tr><td>2023</td><td>1</td><td>3381619804.449998</td></tr><tr><td>2023</td><td>1</td><td>3381619804.449998</td></tr><tr><td>2023</td><td>1</td><td>3381619804.449998</td></tr><tr><td>2023</td><td>1</td><td>3381619804.449998</td></tr><tr><td>2023</td><td>1</td><td>3381619804.449998</td></tr><tr><td>2023</td><td>1</td><td>3381619804.449998</td></tr><tr><td>2023</td><td>1</td><td>3381619804.449998</td></tr><tr><td>2023</td><td>1</td><td>3381619804.449998</td></tr><tr><td>2023</td><td>1</td><td>3381619804.449998</td></tr><tr><td>2023</td><td>1</td><td>3381619804.449998</td></tr><tr><td>2023</td><td>1</td><td>3381619804.449998</td></tr><tr><td>2023</td><td>1</td><td>3381619804.449998</td></tr><tr><td>2023</td><td>1</td><td>3381619804.449998</td></tr><tr><td>2023</td><td>1</td><td>3381619804.449998</td></tr><tr><td>2023</td><td>1</td><td>3381619804.449998</td></tr><tr><td>2023</td><td>1</td><td>3381619804.449998</td></tr><tr><td>2023</td><td>1</td><td>3381619804.449998</td></tr><tr><td>2023</td><td>1</td><td>3381619804.449998</td></tr><tr><td>2023</td><td>1</td><td>3381619804.449998</td></tr><tr><td>2023</td><td>1</td><td>3381619804.449998</td></tr><tr><td>2023</td><td>1</td><td>3381619804.449998</td></tr><tr><td>2023</td><td>1</td><td>3381619804.449998</td></tr><tr><td>2023</td><td>1</td><td>3381619804.449998</td></tr><tr><td>2023</td><td>1</td><td>3381619804.449998</td></tr><tr><td>2023</td><td>1</td><td>3381619804.449998</td></tr><tr><td>2023</td><td>1</td><td>3381619804.449998</td></tr><tr><td>2023</td><td>1</td><td>3381619804.449998</td></tr><tr><td>2023</td><td>1</td><td>3381619804.449998</td></tr><tr><td>2023</td><td>1</td><td>3381619804.449998</td></tr><tr><td>2023</td><td>1</td><td>3381619804.449998</td></tr><tr><td>2023</td><td>1</td><td>3381619804.449998</td></tr><tr><td>2023</td><td>1</td><td>3381619804.449998</td></tr><tr><td>2023</td><td>1</td><td>3381619804.449998</td></tr><tr><td>2023</td><td>1</td><td>3381619804.449998</td></tr><tr><td>2023</td><td>1</td><td>3381619804.449998</td></tr><tr><td>2023</td><td>1</td><td>3381619804.449998</td></tr><tr><td>2023</td><td>1</td><td>3381619804.449998</td></tr><tr><td>2023</td><td>1</td><td>3381619804.449998</td></tr><tr><td>2023</td><td>1</td><td>3381619804.449998</td></tr><tr><td>2023</td><td>1</td><td>3381619804.449998</td></tr><tr><td>2023</td><td>1</td><td>3381619804.449998</td></tr><tr><td>2023</td><td>1</td><td>3381619804.449998</td></tr><tr><td>2023</td><td>1</td><td>3381619804.449998</td></tr><tr><td>2023</td><td>1</td><td>3381619804.449998</td></tr><tr><td>2023</td><td>1</td><td>3381619804.449998</td></tr><tr><td>2023</td><td>1</td><td>3381619804.449998</td></tr><tr><td>2023</td><td>1</td><td>3381619804.449998</td></tr><tr><td>2023</td><td>1</td><td>3381619804.449998</td></tr><tr><td>2023</td><td>1</td><td>3381619804.449998</td></tr><tr><td>2023</td><td>1</td><td>3381619804.449998</td></tr><tr><td>2023</td><td>1</td><td>3381619804.449998</td></tr><tr><td>2023</td><td>1</td><td>3381619804.449998</td></tr><tr><td>2023</td><td>1</td><td>3381619804.449998</td></tr><tr><td>2023</td><td>1</td><td>3381619804.449998</td></tr><tr><td>2023</td><td>1</td><td>3381619804.449998</td></tr><tr><td>2023</td><td>1</td><td>3381619804.449998</td></tr><tr><td>2023</td><td>1</td><td>3381619804.449998</td></tr><tr><td>2023</td><td>1</td><td>3381619804.449998</td></tr><tr><td>2023</td><td>1</td><td>3381619804.449998</td></tr><tr><td>2023</td><td>1</td><td>3381619804.449998</td></tr><tr><td>2023</td><td>1</td><td>3381619804.449998</td></tr><tr><td>2023</td><td>1</td><td>3381619804.449998</td></tr><tr><td>2023</td><td>1</td><td>3381619804.449998</td></tr><tr><td>2023</td><td>1</td><td>3381619804.449998</td></tr><tr><td>2023</td><td>1</td><td>3381619804.449998</td></tr><tr><td>2023</td><td>1</td><td>3381619804.449998</td></tr><tr><td>2023</td><td>1</td><td>3381619804.449998</td></tr><tr><td>2023</td><td>1</td><td>3381619804.449998</td></tr><tr><td>2023</td><td>1</td><td>3381619804.449998</td></tr><tr><td>2023</td><td>1</td><td>3381619804.449998</td></tr><tr><td>2023</td><td>1</td><td>3381619804.449998</td></tr><tr><td>2023</td><td>1</td><td>3381619804.449998</td></tr><tr><td>2023</td><td>1</td><td>3381619804.449998</td></tr><tr><td>2023</td><td>1</td><td>3381619804.449998</td></tr><tr><td>2023</td><td>1</td><td>3381619804.449998</td></tr><tr><td>2023</td><td>1</td><td>3381619804.449998</td></tr><tr><td>2023</td><td>1</td><td>3381619804.449998</td></tr><tr><td>2023</td><td>1</td><td>3381619804.449998</td></tr><tr><td>2023</td><td>1</td><td>3381619804.449998</td></tr><tr><td>2023</td><td>1</td><td>3381619804.449998</td></tr><tr><td>2023</td><td>1</td><td>3381619804.449998</td></tr><tr><td>2023</td><td>1</td><td>3381619804.449998</td></tr><tr><td>2023</td><td>1</td><td>3381619804.449998</td></tr><tr><td>2023</td><td>1</td><td>3381619804.449998</td></tr><tr><td>2023</td><td>1</td><td>3381619804.449998</td></tr><tr><td>2023</td><td>1</td><td>3381619804.449998</td></tr><tr><td>2023</td><td>1</td><td>3381619804.449998</td></tr><tr><td>2023</td><td>1</td><td>3381619804.449998</td></tr><tr><td>2023</td><td>1</td><td>3381619804.449998</td></tr><tr><td>2023</td><td>1</td><td>3381619804.449998</td></tr><tr><td>2023</td><td>1</td><td>3381619804.449998</td></tr><tr><td>2023</td><td>1</td><td>3381619804.449998</td></tr><tr><td>2023</td><td>1</td><td>3381619804.449998</td></tr><tr><td>2023</td><td>1</td><td>3381619804.449998</td></tr><tr><td>2023</td><td>1</td><td>3381619804.449998</td></tr><tr><td>2023</td><td>1</td><td>3381619804.449998</td></tr><tr><td>2023</td><td>1</td><td>3381619804.449998</td></tr><tr><td>2023</td><td>1</td><td>3381619804.449998</td></tr><tr><td>2023</td><td>1</td><td>3381619804.449998</td></tr><tr><td>2023</td><td>1</td><td>3381619804.449998</td></tr></table>"
                    },
                    "metadata": {}
                }
            ],
            "execution_count": 9
        },
        {
            "cell_type": "markdown",
            "source": [
                "- `SELECT`: Esta palabra clave se usa para especificar los campos que deseas seleccionar en tu consulta. En este caso, estás seleccionando `ano`, `mes` y una suma acumulativa de `monto`.\n",
                "    \n",
                "- `ano, mes`: Estos son los campos que se seleccionarán en tu consulta.\n",
                "    \n",
                "- `SUM(monto) OVER (PARTITION BY ano ORDER BY mes) AS monto_acumulado`: Aquí estás utilizando una función de ventana para calcular la suma acumulativa del campo `monto`. `PARTITION BY ano` divide los datos en \"particiones\" o grupos basados en el año. `ORDER BY mes` especifica el orden en el que los datos se acumularán dentro de cada grupo. `AS monto_acumulado` simplemente renombra el resultado de esta suma acumulativa para que se pueda referenciar más fácilmente en los resultados.\n",
                "    \n",
                "- `FROM [dbo].[infonavit]`: Aquí estás especificando la tabla de la que deseas seleccionar los datos. En este caso, estás seleccionando desde la tabla `infonavit` en la base de datos `dbo`.\n",
                "    \n",
                "- `WHERE ano = 2019`: Finalmente, estás utilizando una cláusula `WHERE` para filtrar los resultados. Solo quieres ver los datos donde `ano` es igual a 2019.\n",
                "    \n",
                "\n",
                "En resumen, esta consulta te dará una suma acumulativa de la columna `monto` para cada mes del año 2019. Esto te permite ver cómo el total del `monto` cambia de mes a mes a lo largo del año. Recuerda que la suma acumulativa se calcula de forma independiente para cada año debido a la cláusula `PARTITION BY ano`.\n",
                "\n",
                "- `SELECT`: Esta palabra clave se usa para especificar los campos que deseas seleccionar en tu consulta. En este caso, estás seleccionando `ano`, `mes` y una suma acumulativa de `monto`.\n",
                "    \n",
                "- `ano, mes`: Estos son los campos que se seleccionarán en tu consulta.\n",
                "    \n",
                "- `SUM(monto) OVER (PARTITION BY ano ORDER BY mes) AS monto_acumulado`: Aquí estás utilizando una función de ventana para calcular la suma acumulativa del campo `monto`. `PARTITION BY ano` divide los datos en \"particiones\" o grupos basados en el año. `ORDER BY mes` especifica el orden en el que los datos se acumularán dentro de cada grupo. `AS monto_acumulado` simplemente renombra el resultado de esta suma acumulativa para que se pueda referenciar más fácilmente en los resultados.\n",
                "    \n",
                "- `FROM [dbo].[infonavit]`: Aquí estás especificando la tabla de la que deseas seleccionar los datos. En este caso, estás seleccionando desde la tabla `infonavit` en la base de datos `dbo`.\n",
                "    \n",
                "- `WHERE ano = 2019`: Finalmente, estás utilizando una cláusula `WHERE` para filtrar los resultados. Solo quieres ver los datos donde `ano` es igual a 2019.\n",
                "    \n",
                "\n",
                "En resumen, esta consulta te dará una suma acumulativa de la columna `monto` para cada mes del año 2019. Esto te permite ver cómo el total del `monto` cambia de mes a mes a lo largo del año. Recuerda que la suma acumulativa se calcula de forma independiente para cada año debido a la cláusula `PARTITION BY ano`."
            ],
            "metadata": {
                "azdata_cell_guid": "51610b72-b515-4bd7-bfdc-8eefdd1d7d00"
            },
            "attachments": {}
        },
        {
            "cell_type": "markdown",
            "source": [
                "1. # Subconsultas y CTEs:\n",
                "\n",
                "Las subconsultas y las Expresiones de Tabla Comunes (CTEs) te permiten dividir tus consultas en partes más manejables y realizar cálculos más complejos.\n",
                "\n",
                ""
            ],
            "metadata": {
                "azdata_cell_guid": "f85310fe-3624-4855-86bd-d1afac6277d2"
            },
            "attachments": {}
        },
        {
            "cell_type": "code",
            "source": [
                "-- Calcular el monto total por entidad y luego encontrar las entidades con un monto total mayor que el promedio\n",
                "WITH total_por_entidad AS (\n",
                "    SELECT entidad, SUM(monto) AS total_monto\n",
                "    FROM infonavit\n",
                "    WHERE ano = 2023\n",
                "    GROUP BY entidad\n",
                ")\n",
                "SELECT entidad, total_monto\n",
                "FROM total_por_entidad\n",
                "WHERE total_monto > (SELECT AVG(total_monto) FROM total_por_entidad) "
            ],
            "metadata": {
                "azdata_cell_guid": "e23be314-3552-4f78-ba47-1cca8b35ce10",
                "language": "sql"
            },
            "outputs": [
                {
                    "output_type": "display_data",
                    "data": {
                        "text/html": "(3 row(s) affected)"
                    },
                    "metadata": {}
                },
                {
                    "output_type": "display_data",
                    "data": {
                        "text/html": "Total execution time: 00:00:01.014"
                    },
                    "metadata": {}
                },
                {
                    "output_type": "execute_result",
                    "execution_count": 11,
                    "data": {
                        "application/vnd.dataresource+json": {
                            "schema": {
                                "fields": [
                                    {
                                        "name": "entidad"
                                    },
                                    {
                                        "name": "total_monto"
                                    }
                                ]
                            },
                            "data": [
                                {
                                    "entidad": "Aguascalientes",
                                    "total_monto": "605503419.77"
                                },
                                {
                                    "entidad": "Baja California",
                                    "total_monto": "1249622623.3200004"
                                },
                                {
                                    "entidad": "Coahuila de Zaragoza",
                                    "total_monto": "958121277.8299996"
                                }
                            ]
                        },
                        "text/html": "<table><tr><th>entidad</th><th>total_monto</th></tr><tr><td>Aguascalientes</td><td>605503419.77</td></tr><tr><td>Baja California</td><td>1249622623.3200004</td></tr><tr><td>Coahuila de Zaragoza</td><td>958121277.8299996</td></tr></table>"
                    },
                    "metadata": {}
                }
            ],
            "execution_count": 11
        },
        {
            "cell_type": "markdown",
            "source": [
                "# Diccionarios\n",
                "En este ejemplo, la declaración CASE revisa cada valor de edad_rango y lo reemplaza con la cadena correspondiente. Luego, el resultado de la consulta será un recuento de registros para cada rango de edad en lenguaje legible.\n",
                "\n",
                "Aunque esto funciona, no es lo más eficiente, especialmente si tienes muchas columnas codificadas. En un escenario de producción, es posible que prefieras tener tablas de referencia separadas para cada conjunto de códigos y luego unir estas tablas a tu tabla principal utilizando JOIN."
            ],
            "metadata": {
                "azdata_cell_guid": "8167f7ee-8dce-4c62-b7e0-f365af87c21e"
            },
            "attachments": {}
        },
        {
            "cell_type": "code",
            "source": [
                "SELECT \n",
                "    CASE \n",
                "        WHEN edad_rango = 1 THEN '29 o menos'\n",
                "        WHEN edad_rango = 2 THEN '30 a 59'\n",
                "        WHEN edad_rango = 3 THEN '60 o más'\n",
                "        ELSE 'No especificado'\n",
                "    END as edad,\n",
                "    COUNT(*) as count\n",
                "FROM infonavit\n",
                "GROUP BY edad_rango\n",
                "ORDER BY edad_rango\n",
                ""
            ],
            "metadata": {
                "azdata_cell_guid": "02f66d38-9595-49a9-a655-525a3bad34b3",
                "language": "sql"
            },
            "outputs": [
                {
                    "output_type": "display_data",
                    "data": {
                        "text/html": "(4 row(s) affected)"
                    },
                    "metadata": {}
                },
                {
                    "output_type": "display_data",
                    "data": {
                        "text/html": "Total execution time: 00:00:01.013"
                    },
                    "metadata": {}
                },
                {
                    "output_type": "execute_result",
                    "execution_count": 12,
                    "data": {
                        "application/vnd.dataresource+json": {
                            "schema": {
                                "fields": [
                                    {
                                        "name": "edad"
                                    },
                                    {
                                        "name": "count"
                                    }
                                ]
                            },
                            "data": [
                                {
                                    "edad": "No especificado",
                                    "count": "57"
                                },
                                {
                                    "edad": "29 o menos",
                                    "count": "673"
                                },
                                {
                                    "edad": "30 a 59",
                                    "count": "1557"
                                },
                                {
                                    "edad": "60 o más",
                                    "count": "99"
                                }
                            ]
                        },
                        "text/html": "<table><tr><th>edad</th><th>count</th></tr><tr><td>No especificado</td><td>57</td></tr><tr><td>29 o menos</td><td>673</td></tr><tr><td>30 a 59</td><td>1557</td></tr><tr><td>60 o más</td><td>99</td></tr></table>"
                    },
                    "metadata": {}
                }
            ],
            "execution_count": 12
        },
        {
            "cell_type": "markdown",
            "source": [
                "# Para hacer un JOIN en SQL, \n",
                "primero necesitarías tener una tabla de referencia que contenga tus rangos de edad y sus descripciones correspondientes. Supongamos que tienes una tabla llamada rangos_edad estructurada de la siguiente manera:"
            ],
            "metadata": {
                "azdata_cell_guid": "92f16adb-3936-436f-9340-aac267fd74a5"
            },
            "attachments": {}
        },
        {
            "cell_type": "code",
            "source": [
                "CREATE TABLE rangos_edad (\n",
                "    edad_rango INT PRIMARY KEY,\n",
                "    descripcion VARCHAR(50)\n",
                ");\n",
                "INSERT INTO rangos_edad (edad_rango, descripcion) \n",
                "VALUES \n",
                "    (1, '29 o menos'),\n",
                "    (2, '30 a 59'),\n",
                "    (3, '60 o más'),\n",
                "    (4, 'No especificado');\n",
                ""
            ],
            "metadata": {
                "azdata_cell_guid": "7f4e231e-b495-47d1-bbf0-1c0cf3445895",
                "language": "sql"
            },
            "outputs": [
                {
                    "output_type": "display_data",
                    "data": {
                        "text/html": "Total execution time: 00:00:00.001"
                    },
                    "metadata": {}
                },
                {
                    "output_type": "error",
                    "ename": "",
                    "evalue": "1050 (42S01): Table 'rangos_edad' already exists",
                    "traceback": []
                }
            ],
            "execution_count": 16
        },
        {
            "cell_type": "code",
            "source": [
                "SELECT rangos_edad.descripcion as rango_edad, COUNT(*) as num_personas\n",
                "FROM [dbo].[infonavit] i\n",
                "JOIN rangos_edad e ON i.edad_rango = e.edad_rango\n",
                "GROUP BY e.descripcion\n",
                ""
            ],
            "metadata": {
                "azdata_cell_guid": "1c495a06-8926-4e0b-8087-1e74cfc880b0",
                "language": "sql",
                "tags": [
                    "hide_input"
                ]
            },
            "outputs": [
                {
                    "output_type": "display_data",
                    "data": {
                        "text/html": "Total execution time: 00:00:00"
                    },
                    "metadata": {}
                },
                {
                    "output_type": "error",
                    "ename": "",
                    "evalue": "1064 (42000): You have an error in your SQL syntax; check the manual that corresponds to your MySQL server version for the right syntax to use near '[dbo].[infonavit] i\nJOIN rangos_edad e ON i.edad_rango = e.edad_rango\nGROUP BY e' at line 2",
                    "traceback": []
                }
            ],
            "execution_count": 20
        },
        {
            "cell_type": "markdown",
            "source": [
                "# Consultas de distribución: \n",
                "Estas consultas te permiten entender cómo se distribuyen tus datos. Por ejemplo, puedes querer saber cuántos préstamos se han otorgado en cada estado, o cuál es la distribución de edades de las personas que toman préstamos."
            ],
            "metadata": {
                "azdata_cell_guid": "5623bd32-4d66-46ae-b003-1189cf250629"
            },
            "attachments": {}
        },
        {
            "cell_type": "code",
            "source": [
                "-- Este comando selecciona las entidades y el número de préstamos por entidad\n",
                "SELECT entidad, COUNT(*) as num_prestamos\n",
                "FROM infonavit -- Desde la tabla infonavit\n",
                "GROUP BY entidad -- Agrupa los resultados por entidad\n",
                "ORDER BY num_prestamos DESC -- Ordena los resultados por el número de préstamos en orden descendente\n",
                ""
            ],
            "metadata": {
                "azdata_cell_guid": "0f810515-879a-43d8-b914-4756b03c995e",
                "language": "sql"
            },
            "outputs": [
                {
                    "output_type": "display_data",
                    "data": {
                        "text/html": "(7 row(s) affected)"
                    },
                    "metadata": {}
                },
                {
                    "output_type": "display_data",
                    "data": {
                        "text/html": "Total execution time: 00:00:01.010"
                    },
                    "metadata": {}
                },
                {
                    "output_type": "execute_result",
                    "execution_count": 18,
                    "data": {
                        "application/vnd.dataresource+json": {
                            "schema": {
                                "fields": [
                                    {
                                        "name": "entidad"
                                    },
                                    {
                                        "name": "num_prestamos"
                                    }
                                ]
                            },
                            "data": [
                                {
                                    "entidad": "Coahuila de Zaragoza",
                                    "num_prestamos": "818"
                                },
                                {
                                    "entidad": "Baja California",
                                    "num_prestamos": "581"
                                },
                                {
                                    "entidad": "Aguascalientes",
                                    "num_prestamos": "460"
                                },
                                {
                                    "entidad": "Baja California Sur",
                                    "num_prestamos": "210"
                                },
                                {
                                    "entidad": "Campeche",
                                    "num_prestamos": "180"
                                },
                                {
                                    "entidad": "Colima",
                                    "num_prestamos": "136"
                                },
                                {
                                    "entidad": "No distribuido",
                                    "num_prestamos": "1"
                                }
                            ]
                        },
                        "text/html": "<table><tr><th>entidad</th><th>num_prestamos</th></tr><tr><td>Coahuila de Zaragoza</td><td>818</td></tr><tr><td>Baja California</td><td>581</td></tr><tr><td>Aguascalientes</td><td>460</td></tr><tr><td>Baja California Sur</td><td>210</td></tr><tr><td>Campeche</td><td>180</td></tr><tr><td>Colima</td><td>136</td></tr><tr><td>No distribuido</td><td>1</td></tr></table>"
                    },
                    "metadata": {}
                }
            ],
            "execution_count": 18
        },
        {
            "cell_type": "code",
            "source": [
                "\n",
                "-- Este comando selecciona los rangos de edad y el número de personas en cada rango\n",
                "SELECT e.descripcion as rango_edad, COUNT(*) as num_personas\n",
                "FROM infonavit i -- Desde la tabla infonavit, con alias \"i\"\n",
                "JOIN rangos_edad e ON i.edad_rango = e.edad_rango -- Une con la tabla rangos_edad en el campo edad_rango, con alias \"e\"\n",
                "GROUP BY e.descripcion -- Agrupa los resultados por la descripción del rango de edad\n",
                "ORDER BY num_personas DESC -- Ordena los resultados por el número de personas en orden descendente\n",
                ""
            ],
            "metadata": {
                "language": "sql",
                "azdata_cell_guid": "3d5b667e-313e-4cc5-9cbc-16d5d827344c"
            },
            "outputs": [
                {
                    "output_type": "display_data",
                    "data": {
                        "text/html": "(4 row(s) affected)"
                    },
                    "metadata": {}
                },
                {
                    "output_type": "display_data",
                    "data": {
                        "text/html": "Total execution time: 00:00:01.014"
                    },
                    "metadata": {}
                },
                {
                    "output_type": "execute_result",
                    "execution_count": 21,
                    "data": {
                        "application/vnd.dataresource+json": {
                            "schema": {
                                "fields": [
                                    {
                                        "name": "rango_edad"
                                    },
                                    {
                                        "name": "num_personas"
                                    }
                                ]
                            },
                            "data": [
                                {
                                    "rango_edad": "29 o menos",
                                    "num_personas": "1"
                                },
                                {
                                    "rango_edad": "30 a 59",
                                    "num_personas": "1"
                                },
                                {
                                    "rango_edad": "60 o más",
                                    "num_personas": "1"
                                },
                                {
                                    "rango_edad": "No especificado",
                                    "num_personas": "1"
                                }
                            ]
                        },
                        "text/html": "<table><tr><th>rango_edad</th><th>num_personas</th></tr><tr><td>29 o menos</td><td>1</td></tr><tr><td>30 a 59</td><td>1</td></tr><tr><td>60 o más</td><td>1</td></tr><tr><td>No especificado</td><td>1</td></tr></table>"
                    },
                    "metadata": {}
                }
            ],
            "execution_count": 21
        },
        {
            "cell_type": "markdown",
            "source": [
                "\n",
                "# Consultas de tendencias a lo largo del tiempo\n",
                " Si tus datos tienen un componente de tiempo (como la fecha en que se otorgó el préstamo), puedes usar esto para analizar tendencias a lo largo del tiempo. Por ejemplo, podrías querer saber cómo ha cambiado el número total de préstamos otorgados o el monto total prestado a lo largo del tiempo"
            ],
            "metadata": {
                "azdata_cell_guid": "e6de2d07-7201-4fd2-8110-4c61b1e1167f"
            },
            "attachments": {}
        },
        {
            "cell_type": "code",
            "source": [
                "-- Este comando selecciona el año, mes, número de préstamos y monto total de préstamos por año y mes\n",
                "SELECT ano, mes, COUNT(*) as num_prestamos, SUM(monto) as total_monto\n",
                "FROM infonavitinfonavit -- Desde la tabla infonavit\n",
                "GROUP BY ano, mes -- Agrupa los resultados por año y mes\n",
                "ORDER BY ano, mes -- Ordena los resultados por año y mes\n",
                "    "
            ],
            "metadata": {
                "azdata_cell_guid": "f58482ac-abde-48dc-b9cb-5f1195cae73d",
                "language": "sql"
            },
            "outputs": [
                {
                    "output_type": "display_data",
                    "data": {
                        "text/html": "(1 row(s) affected)"
                    },
                    "metadata": {}
                },
                {
                    "output_type": "display_data",
                    "data": {
                        "text/html": "Total execution time: 00:00:01.018"
                    },
                    "metadata": {}
                },
                {
                    "output_type": "execute_result",
                    "execution_count": 24,
                    "data": {
                        "application/vnd.dataresource+json": {
                            "schema": {
                                "fields": [
                                    {
                                        "name": "ano"
                                    },
                                    {
                                        "name": "mes"
                                    },
                                    {
                                        "name": "num_prestamos"
                                    },
                                    {
                                        "name": "total_monto"
                                    }
                                ]
                            },
                            "data": [
                                {
                                    "ano": "2023",
                                    "mes": "1",
                                    "num_prestamos": "2386",
                                    "total_monto": "3381619804.449998"
                                }
                            ]
                        },
                        "text/html": "<table><tr><th>ano</th><th>mes</th><th>num_prestamos</th><th>total_monto</th></tr><tr><td>2023</td><td>1</td><td>2386</td><td>3381619804.449998</td></tr></table>"
                    },
                    "metadata": {}
                }
            ],
            "execution_count": 24
        },
        {
            "cell_type": "markdown",
            "source": [
                "\n",
                "# Consultas de estadísticas de resumen \n",
                "Estas consultas te permiten obtener estadísticas de resumen para tus datos. Por ejemplo, podrías querer saber el monto promedio de préstamo, el monto mínimo de préstamo, el monto máximo de préstamo, etc.\n",
                "\n",
                ""
            ],
            "metadata": {
                "azdata_cell_guid": "ecdf27ba-d445-44ba-bc15-746393807bd2"
            },
            "attachments": {}
        },
        {
            "cell_type": "code",
            "source": [
                "-- Este comando selecciona el monto promedio, mínimo y máximo de los préstamos\n",
                "SELECT AVG(monto) as promedio_monto, MIN(monto) as min_monto, MAX(monto) as max_monto\n",
                "FROM infonavit -- Desde la tabla infonavit\n",
                ""
            ],
            "metadata": {
                "azdata_cell_guid": "03317b40-26b0-4f08-9913-5c58fe9b0439",
                "language": "sql"
            },
            "outputs": [
                {
                    "output_type": "display_data",
                    "data": {
                        "text/html": "(1 row(s) affected)"
                    },
                    "metadata": {}
                },
                {
                    "output_type": "display_data",
                    "data": {
                        "text/html": "Total execution time: 00:00:01.021"
                    },
                    "metadata": {}
                },
                {
                    "output_type": "execute_result",
                    "execution_count": 25,
                    "data": {
                        "application/vnd.dataresource+json": {
                            "schema": {
                                "fields": [
                                    {
                                        "name": "promedio_monto"
                                    },
                                    {
                                        "name": "min_monto"
                                    },
                                    {
                                        "name": "max_monto"
                                    }
                                ]
                            },
                            "data": [
                                {
                                    "promedio_monto": "1417275.6933989932",
                                    "min_monto": "0.0",
                                    "max_monto": "67671978.0"
                                }
                            ]
                        },
                        "text/html": "<table><tr><th>promedio_monto</th><th>min_monto</th><th>max_monto</th></tr><tr><td>1417275.6933989932</td><td>0.0</td><td>67671978.0</td></tr></table>"
                    },
                    "metadata": {}
                }
            ],
            "execution_count": 25
        }
    ]
}