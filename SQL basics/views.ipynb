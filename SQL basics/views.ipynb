{
    "metadata": {
        "kernelspec": {
            "name": "SQL",
            "display_name": "SQL",
            "language": "sql"
        },
        "language_info": {
            "name": "sql",
            "version": ""
        }
    },
    "nbformat_minor": 2,
    "nbformat": 4,
    "cells": [
        {
            "cell_type": "markdown",
            "source": [
                "# Creando una vista"
            ],
            "metadata": {
                "azdata_cell_guid": "eb662e16-c40f-4cec-8521-e57cff25f6a0"
            },
            "attachments": {}
        },
        {
            "cell_type": "code",
            "source": [
                "-- Creando la vista total_por_entidad\r\n",
                "CREATE VIEW total_por_entidad AS\r\n",
                "SELECT entidad, SUM(monto) AS total_monto\r\n",
                "FROM [dbo].[financiamientos]\r\n",
                "GROUP BY entidad;\r\n",
                ""
            ],
            "metadata": {
                "azdata_cell_guid": "6efcae89-e2c7-494c-ab03-8b9f954720da",
                "language": "sql"
            },
            "outputs": [
                {
                    "output_type": "display_data",
                    "data": {
                        "text/html": "Commands completed successfully."
                    },
                    "metadata": {}
                },
                {
                    "output_type": "display_data",
                    "data": {
                        "text/html": "Total execution time: 00:00:00.006"
                    },
                    "metadata": {}
                }
            ],
            "execution_count": 3
        },
        {
            "cell_type": "markdown",
            "source": [
                "Este comando CREATE VIEW crea una vista llamada total_por_entidad. La vista es el resultado de la consulta SELECT que se especifica después del AS. Esta consulta agrupa los datos por entidad y calcula la suma total del monto para cada entidad."
            ],
            "metadata": {
                "azdata_cell_guid": "ea97674f-a228-497d-99d7-eb028c67bf3c"
            },
            "attachments": {}
        },
        {
            "cell_type": "markdown",
            "source": [
                "# Usando una vista\r\n",
                "\r\n",
                ""
            ],
            "metadata": {
                "azdata_cell_guid": "09523250-e462-41ae-b333-fbc94c57453d"
            },
            "attachments": {}
        },
        {
            "cell_type": "code",
            "source": [
                "-- Usando la vista\r\n",
                "SELECT * FROM total_por_entidad;\r\n",
                ""
            ],
            "metadata": {
                "azdata_cell_guid": "a397683d-8281-4a2d-adf9-96b6a6047fca",
                "language": "sql"
            },
            "outputs": [
{
    "output_type": "display_data",
    "data": {
        "text/html": "(33 rows affected)"
    },
    "metadata": {}
}, {
    "output_type": "display_data",
    "data": {
        "text/html": "Total execution time: 00:00:00.285"
    },
    "metadata": {}
}, {
    "output_type": "execute_result",
    "execution_count": 4,
    "data": {
        "application/vnd.dataresource+json": {
            "schema": {
                "fields": [
                    {
                        "name": "entidad"
                    },
                    {
                        "name": "total_monto"
                    }
                ]
            },
            "data": [
                {
                    "entidad": "San Luis Potos?",
                    "total_monto": "9320719616.29001"
                },
                {
                    "entidad": "Baja California Sur",
                    "total_monto": "3988500380.0599966"
                },
                {
                    "entidad": "Guerrero",
                    "total_monto": "4724073551.679999"
                },
                {
                    "entidad": "M?xico",
                    "total_monto": "34559921661.60998"
                },
                {
                    "entidad": "Durango",
                    "total_monto": "4509284951.4000025"
                },
                {
                    "entidad": "Tabasco",
                    "total_monto": "3747803861.040003"
                },
                {
                    "entidad": "No distribuido",
                    "total_monto": "179772179"
                },
                {
                    "entidad": "Quer?taro",
                    "total_monto": "17014300948.319908"
                },
                {
                    "entidad": "Puebla",
                    "total_monto": "12205732325.129879"
                },
                {
                    "entidad": "Ciudad de M?xico",
                    "total_monto": "45980032022.44996"
                },
                {
                    "entidad": "Veracruz de Ignacio de la Llave",
                    "total_monto": "13660928050.52999"
                },
                {
                    "entidad": "Chiapas",
                    "total_monto": "6045479963.510002"
                },
                {
                    "entidad": "Quintana Roo",
                    "total_monto": "14018048907.630032"
                },
                {
                    "entidad": "Aguascalientes",
                    "total_monto": "7169390323.470009"
                },
                {
                    "entidad": "Nayarit",
                    "total_monto": "3450232608.780008"
                },
                {
                    "entidad": "Tlaxcala",
                    "total_monto": "1502270391.740001"
                },
                {
                    "entidad": "Jalisco",
                    "total_monto": "32009504982.61"
                },
                {
                    "entidad": "Nuevo Le?n",
                    "total_monto": "40778361668.38016"
                },
                {
                    "entidad": "Hidalgo",
                    "total_monto": "8325912653.000026"
                },
                {
                    "entidad": "Guanajuato",
                    "total_monto": "16602616867.489998"
                },
                {
                    "entidad": "Sonora",
                    "total_monto": "11031141496.85999"
                },
                {
                    "entidad": "Colima",
                    "total_monto": "3095468915.800001"
                },
                {
                    "entidad": "Oaxaca",
                    "total_monto": "3676208305.42"
                },
                {
                    "entidad": "Zacatecas",
                    "total_monto": "2432572567.759998"
                },
                {
                    "entidad": "Chihuahua",
                    "total_monto": "16718656809.559992"
                },
                {
                    "entidad": "Sinaloa",
                    "total_monto": "10505383400.750021"
                },
                {
                    "entidad": "Morelos",
                    "total_monto": "7266417397.610007"
                },
                {
                    "entidad": "Michoac?n de Ocampo",
                    "total_monto": "6812811920.680029"
                },
                {
                    "entidad": "Yucat?n",
                    "total_monto": "9392743645.710035"
                },
                {
                    "entidad": "Baja California",
                    "total_monto": "14126516284.979946"
                },
                {
                    "entidad": "Coahuila de Zaragoza",
                    "total_monto": "15332562536.969992"
                },
                {
                    "entidad": "Campeche",
                    "total_monto": "1791250640.6900024"
                },
                {
                    "entidad": "Tamaulipas",
                    "total_monto": "11571918292.820013"
                }
            ]
        },
        "text/html": "<table><tr><th>entidad</th><th>total_monto</th></tr><tr><td>San Luis Potos?</td><td>9320719616.29001</td></tr><tr><td>Baja California Sur</td><td>3988500380.0599966</td></tr><tr><td>Guerrero</td><td>4724073551.679999</td></tr><tr><td>M?xico</td><td>34559921661.60998</td></tr><tr><td>Durango</td><td>4509284951.4000025</td></tr><tr><td>Tabasco</td><td>3747803861.040003</td></tr><tr><td>No distribuido</td><td>179772179</td></tr><tr><td>Quer?taro</td><td>17014300948.319908</td></tr><tr><td>Puebla</td><td>12205732325.129879</td></tr><tr><td>Ciudad de M?xico</td><td>45980032022.44996</td></tr><tr><td>Veracruz de Ignacio de la Llave</td><td>13660928050.52999</td></tr><tr><td>Chiapas</td><td>6045479963.510002</td></tr><tr><td>Quintana Roo</td><td>14018048907.630032</td></tr><tr><td>Aguascalientes</td><td>7169390323.470009</td></tr><tr><td>Nayarit</td><td>3450232608.780008</td></tr><tr><td>Tlaxcala</td><td>1502270391.740001</td></tr><tr><td>Jalisco</td><td>32009504982.61</td></tr><tr><td>Nuevo Le?n</td><td>40778361668.38016</td></tr><tr><td>Hidalgo</td><td>8325912653.000026</td></tr><tr><td>Guanajuato</td><td>16602616867.489998</td></tr><tr><td>Sonora</td><td>11031141496.85999</td></tr><tr><td>Colima</td><td>3095468915.800001</td></tr><tr><td>Oaxaca</td><td>3676208305.42</td></tr><tr><td>Zacatecas</td><td>2432572567.759998</td></tr><tr><td>Chihuahua</td><td>16718656809.559992</td></tr><tr><td>Sinaloa</td><td>10505383400.750021</td></tr><tr><td>Morelos</td><td>7266417397.610007</td></tr><tr><td>Michoac?n de Ocampo</td><td>6812811920.680029</td></tr><tr><td>Yucat?n</td><td>9392743645.710035</td></tr><tr><td>Baja California</td><td>14126516284.979946</td></tr><tr><td>Coahuila de Zaragoza</td><td>15332562536.969992</td></tr><tr><td>Campeche</td><td>1791250640.6900024</td></tr><tr><td>Tamaulipas</td><td>11571918292.820013</td></tr></table>"
    },
    "metadata": {}
}
],
            "execution_count": 4
        },
        {
            "cell_type": "code",
            "source": [
                "-- Creando la vista cantidad_por_edad\r\n",
                "CREATE VIEW cantidad_por_edad AS\r\n",
                "SELECT edad_rango, COUNT(*) AS cantidad\r\n",
                "FROM [dbo].[financiamientos]\r\n",
                "GROUP BY edad_rango;\r\n",
                "\r\n",
                "\r\n",
                ""
            ],
            "metadata": {
                "azdata_cell_guid": "0daa911a-4299-40cc-83d6-fbbb7fbb9f80",
                "language": "sql"
            },
            "outputs": [
                {
                    "output_type": "display_data",
                    "data": {
                        "text/html": "Commands completed successfully."
                    },
                    "metadata": {}
                },
                {
                    "output_type": "display_data",
                    "data": {
                        "text/html": "Total execution time: 00:00:00.005"
                    },
                    "metadata": {}
                }
            ],
            "execution_count": 7
        },
        {
            "cell_type": "code",
            "source": [
                "-- Creando la vista total_por_ano_mes\r\n",
                "CREATE VIEW total_por_ano_mes AS\r\n",
                "SELECT a_o, mes, SUM(monto) AS total_monto\r\n",
                "FROM [dbo].[financiamientos]\r\n",
                "GROUP BY a_o, mes;"
            ],
            "metadata": {
                "azdata_cell_guid": "ac4626c1-c4ee-4d34-9cae-493cd5e8b4ab",
                "language": "sql"
            },
            "outputs": [
{
    "output_type": "display_data",
    "data": {
        "text/html": "Commands completed successfully."
    },
    "metadata": {}
}, {
    "output_type": "display_data",
    "data": {
        "text/html": "Total execution time: 00:00:00.001"
    },
    "metadata": {}
}
],
            "execution_count": 10
        }
    ]
}