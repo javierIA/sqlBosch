{
    "metadata": {
        "kernelspec": {
            "name": "SQL",
            "display_name": "SQL",
            "language": "sql"
        },
        "language_info": {
            "name": "sql",
            "version": ""
        }
    },
    "nbformat_minor": 2,
    "nbformat": 4,
    "cells": [
        {
            "cell_type": "code",
            "source": [
                "use test;\r\n",
                "\r\n",
                "\r\n",
                "CREATE PROCEDURE AgregarEmpleado(IN _nombre VARCHAR(255), IN _apellido VARCHAR(255), IN _salario DECIMAL(10,2))\r\n",
                "BEGIN\r\n",
                "    INSERT INTO empleados(nombre, apellido, salario) VALUES (_nombre, _apellido, _salario);\r\n",
                "END;\r\n",
                "\r\n",
                ""
            ],
            "metadata": {
                "azdata_cell_guid": "7b24916f-5241-467e-83bc-60a20e9919ff",
                "language": "sql"
            },
            "outputs": [
                {
                    "output_type": "error",
                    "ename": "",
                    "evalue": "1304 (42000): PROCEDURE AgregarEmpleado already exists",
                    "traceback": []
                },
                {
                    "output_type": "display_data",
                    "data": {
                        "text/html": "Commands completed successfully"
                    },
                    "metadata": {}
                },
                {
                    "output_type": "display_data",
                    "data": {
                        "text/html": "Total execution time: 00:00:00.002"
                    },
                    "metadata": {}
                },
                {
                    "output_type": "error",
                    "ename": "",
                    "evalue": "1304 (42000): PROCEDURE AgregarEmpleado already exists",
                    "traceback": []
                }
            ],
            "execution_count": 15
        },
        {
            "cell_type": "code",
            "source": [
                ""
            ],
            "metadata": {
                "language": "sql",
                "azdata_cell_guid": "c25f9961-ec46-4e30-8733-ca4757c93e4a"
            },
            "outputs": [
                {
                    "output_type": "display_data",
                    "data": {
                        "text/html": "Total execution time: 00:00:00.002"
                    },
                    "metadata": {}
                }
            ],
            "execution_count": 16
        }
    ]
}